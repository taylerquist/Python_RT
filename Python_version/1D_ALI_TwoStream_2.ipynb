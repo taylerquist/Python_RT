{
 "cells": [
  {
   "cell_type": "markdown",
   "metadata": {},
   "source": [
    "# ALI numerical algorithm for the 1D two-stream approximation"
   ]
  },
  {
   "cell_type": "markdown",
   "metadata": {},
   "source": [
    "## Notes references"
   ]
  },
  {
   "cell_type": "markdown",
   "metadata": {},
   "source": [
    "### Dullemond Radiative Transfer class notes:\n",
    "    Chapter 3: http://www.ita.uni-heidelberg.de/~dullemond/lectures/radtrans_2012/Chapter_3.pdf\n",
    "    Chapter 4: http://www.ita.uni-heidelberg.de/~dullemond/lectures/radtrans_2012/Chapter_4.pdf"
   ]
  },
  {
   "cell_type": "markdown",
   "metadata": {},
   "source": [
    "## Imports"
   ]
  },
  {
   "cell_type": "code",
   "execution_count": null,
   "metadata": {},
   "outputs": [],
   "source": [
    "import numpy as np\n",
    "from numpy import linalg as LA\n",
    "import matplotlib.pyplot as plt"
   ]
  },
  {
   "cell_type": "markdown",
   "metadata": {},
   "source": [
    "## 1) Set parameters, variables, and boundary values"
   ]
  },
  {
   "cell_type": "markdown",
   "metadata": {},
   "source": [
    "### Set the grid"
   ]
  },
  {
   "cell_type": "code",
   "execution_count": null,
   "metadata": {},
   "outputs": [],
   "source": [
    "# Set the number of grid points\n",
    "n = 70\n",
    "# For a few of the applications we need N+1 things\n",
    "N = n+1\n",
    "\n",
    "# Set the 1D grid\n",
    "z = np.linspace(0.,1.,num=N)\n",
    "\n",
    "# Set delta z (grid spacing value)\n",
    "del_z = z[1]"
   ]
  },
  {
   "cell_type": "markdown",
   "metadata": {},
   "source": [
    "### Gas variables"
   ]
  },
  {
   "cell_type": "code",
   "execution_count": null,
   "metadata": {},
   "outputs": [],
   "source": [
    "# Set the thermal source function (aka the Planck function) B\n",
    "# See Ch.4 section 4.4.2 to follow the example\n",
    "# In this case it is constant at each depth\n",
    "B = np.ones(n)\n",
    "\n",
    "# Photon destruction probability\n",
    "# In this example it is constant \n",
    "# and equals 0.1, 0.01, or 0.001\n",
    "epsilon = np.ones(n)*0.001"
   ]
  },
  {
   "cell_type": "markdown",
   "metadata": {},
   "source": [
    "### Optical depth"
   ]
  },
  {
   "cell_type": "code",
   "execution_count": null,
   "metadata": {},
   "outputs": [],
   "source": [
    "# Change in optical depth (delta tau)\n",
    "# Right now it's set based on section 4.4.5\n",
    "# There will be more options to calculate this depending on what \n",
    "# information is given in the problem. It is also constant \n",
    "# here because our grid spacing is equal\n",
    "\n",
    "# The extinction coefficient is\n",
    "# 10.^(5. - 6.*z)\n",
    "\n",
    "# Ch.4, equation 4.55\n",
    "def tau_fn(z_arr):\n",
    "    \"\"\"\n",
    "    Input:\n",
    "        z_arr = grid\n",
    "    Output:\n",
    "        tau = array of the difference in optical depth (delta tau) at each grid cell\n",
    "    \"\"\"\n",
    "    # Get the length, delta z, and set the array for delta tau\n",
    "    # All based on the array given\n",
    "    l = len(z_arr)\n",
    "    delta_z = z_arr[1]\n",
    "    tau_arr = np.zeros((l))\n",
    "    for i in range(0,l):\n",
    "        j = z_arr[i] + delta_z/2.\n",
    "        # delta tau = sqrt(3)*alpha_i*(delta z)\n",
    "        tau_arr[i] = np.sqrt(3.)*(10.**(5. - (6.*j)))*delta_z\n",
    "    return(tau_arr)"
   ]
  },
  {
   "cell_type": "code",
   "execution_count": null,
   "metadata": {},
   "outputs": [],
   "source": [
    "# In this case the variable tau = delta tau\n",
    "tau = tau_fn(z)"
   ]
  },
  {
   "cell_type": "markdown",
   "metadata": {},
   "source": [
    "## 2) Create matrices, interpolation functions, and a matrix solver"
   ]
  },
  {
   "cell_type": "markdown",
   "metadata": {},
   "source": [
    "### Quadratic Bezier Interpolation for I(U)"
   ]
  },
  {
   "cell_type": "code",
   "execution_count": null,
   "metadata": {},
   "outputs": [],
   "source": [
    "# Interpolation coefficients \n",
    "# Only need interpolation if working in 2D or 3D\n",
    "# Still not exactly sure how to define t\n",
    "#t = 0.5\n",
    "#m = 1. - t\n",
    "\n",
    "#def I_interp(i,j):\n",
    "#    \"\"\"\n",
    "#    Input: location on grid\n",
    "#        i = x-coordinate \n",
    "#        j = y-coordinate\n",
    "#    Output: Value of thrid-order-quadrature specific intensity value \n",
    "#        at the input location on grid\n",
    "#    \"\"\"\n",
    "#    return(I[i-1,j]*u**2 + I[i+1,j]*2.*u*t + I[i+2,j]*t**2)"
   ]
  },
  {
   "cell_type": "markdown",
   "metadata": {},
   "source": [
    "### Third order quadratic interpolation for the source contribution"
   ]
  },
  {
   "cell_type": "code",
   "execution_count": null,
   "metadata": {},
   "outputs": [],
   "source": [
    "# Interpolation coefficients\n",
    "# Functions of optical depth\n",
    "# Equations 3.43, 3.44, 3.45 from Ch.3\n",
    "e0 = np.ones((N)) - np.exp(-tau)\n",
    "e1 = tau - e0\n",
    "e2 = tau**2 - (2.*e1)\n",
    "\n",
    "# Initialize the arrays for the coefficients\n",
    "u_p = np.zeros((n))\n",
    "p_p = np.zeros((n))\n",
    "d_p = np.zeros((n))\n",
    "u_m = np.zeros((n))\n",
    "p_m = np.zeros((n))\n",
    "d_m = np.zeros((n))\n",
    "\n",
    "# Equations 3.40, 3.41, 3.42 from Ch.3\n",
    "for i in range(0,n):\n",
    "    # Handle overshoot and undershoot of interpolation\n",
    "    \n",
    "    # I_+ coefficients, n of them\n",
    "    u_p[i] = e0[i] + (e2[i] - (2.*tau[i] + tau[i+1])*e1[i])/(tau[i]*(tau[i]+tau[i+1]))\n",
    "    p_p[i] = (((tau[i]+tau[i+1])*e1[i])-e2[i])/(tau[i]+tau[i+1])\n",
    "    d_p[i] = (e2[i] - tau[i]*e1[i])/(tau[i+1]*(tau[i]+tau[i+1]))\n",
    "    # I_- coefficients, n of them\n",
    "    u_m[i] = e0[i] + (e2[i] - (2.*tau[i] + tau[i-1])*e1[i])/(tau[i]*(tau[i]+tau[i-1]))\n",
    "    p_m[i] = (((tau[i]+tau[i-1])*e1[i])-e2[i])/(tau[i]+tau[i-1])\n",
    "    d_m[i] = (e2[i] - tau[i]*e1[i])/(tau[i-1]*(tau[i]+tau[i-1]))"
   ]
  },
  {
   "cell_type": "markdown",
   "metadata": {},
   "source": [
    "### Partial Lambda Operator"
   ]
  },
  {
   "cell_type": "code",
   "execution_count": null,
   "metadata": {},
   "outputs": [],
   "source": [
    "# These are the lower diagonal, diagonal, and upper diagonal\n",
    "# pieces of the simplified lambda operator. These will \n",
    "# vary across the grid if tau varies with z\n",
    "\n",
    "v = len(u_p)\n",
    " \n",
    "# Ch.4 equations 4.57, 4.58, 4.59\n",
    "\n",
    "# Lower Diagonal\n",
    "# The 0th term of the lower diagonal must be 0\n",
    "lmbda_l = 0.5*(u_p+d_m)\n",
    "lmbda_l[0] = 0.\n",
    "\n",
    "# Diagonal \n",
    "lmbda_d = 0.5*(p_p+p_m)\n",
    "\n",
    "# Upper Diagonal\n",
    "# The n-1 term of the upper diagonal must be 0\n",
    "lmbda_u = 0.5*(d_p+u_m)\n",
    "lmbda_u[n-1] = 0.\n",
    "\n",
    "\n",
    "# Construct the actual matrix\n",
    "# Needed for updating the source function later\n",
    "lmbda_star = np.zeros((n,n))\n",
    "for i in range(0,n):\n",
    "    if i==0:\n",
    "        lmbda_star[i,i] = lmbda_d[i]\n",
    "        lmbda_star[i,i+1] = lmbda_u[i]\n",
    "    elif i==(n-1):\n",
    "        lmbda_star[i,i] = lmbda_d[i]\n",
    "        lmbda_star[i,i-1] = lmbda_l[i]\n",
    "    else:\n",
    "        lmbda_star[i,i-1] = lmbda_l[i]\n",
    "        lmbda_star[i,i] = lmbda_d[i]\n",
    "        lmbda_star[i,i+1] = lmbda_u[i]"
   ]
  },
  {
   "cell_type": "markdown",
   "metadata": {},
   "source": [
    "### M* matrix"
   ]
  },
  {
   "cell_type": "code",
   "execution_count": null,
   "metadata": {},
   "outputs": [],
   "source": [
    "# M* = [Identity - (1-epsilon)*Lambda*]\n",
    "# Where Lambda* is the partial lambda operator \n",
    "# The matrix equation that will be solved is:\n",
    "# M*S = epsilon*B + (1-epsilon)(lambda - lambda*)S\n",
    "# M = np.identity(n) - lmbda*(np.ones((n))-epsilon)\n",
    "\n",
    "# Ch.4 equation 4.47\n",
    "\n",
    "# Lower Diagonal of M\n",
    "M_a =  -(np.ones((n))-epsilon)*lmbda_l\n",
    "M_a[0] = 0.\n",
    "\n",
    "# Diagonal \n",
    "M_b = np.ones((n)) - (np.ones((n))-epsilon)*lmbda_d\n",
    "\n",
    "# Upper Diagonal \n",
    "M_c =  -(np.ones((n))-epsilon)*lmbda_u\n",
    "M_c[n-1] = 0."
   ]
  },
  {
   "cell_type": "markdown",
   "metadata": {},
   "source": [
    "### 1D Source term interpolation"
   ]
  },
  {
   "cell_type": "code",
   "execution_count": null,
   "metadata": {},
   "outputs": [],
   "source": [
    "# Define the 1D source term interpolation function\n",
    "# Ch.3 3.39 -- note that there must be different coefficients\n",
    "# for upward and downward integration approximations.\n",
    "# It takes into account the maximum quadrature limiter\n",
    "# This prevents non-physical occurrences during the interpolation\n",
    "# Equation 3.37 Ch.3 \n",
    "def S_interp(i,S,B,z,delta_z,plus=True):\n",
    "    \"\"\"\n",
    "    Input: \n",
    "        i = location on grid, make sure to not exceed i=n-2\n",
    "        S = Source value at each gridpoint\n",
    "        J = Mean intensity value at each point\n",
    "        delta_z = The difference between grid points\n",
    "        plus = True if we are dealing with the ray that\n",
    "               is being integrated from the bottom to top\n",
    "               False if integrated from the top to bottom\n",
    "    Output: Value of thrid-order-quadrature source value\n",
    "            for the two-stream approximation preventing any\n",
    "            negative values.\n",
    "        at the input location on grid\n",
    "    \"\"\"\n",
    "    # Calculate emissivity across the grid\n",
    "    # Equation 3.10 Chap.3: Third order quadratic integration...\n",
    "    # emiss = B*alpha \n",
    "    # alpha = 10.**(5. - 6.*z)\n",
    "    alpha = B*(10.**(5. - 6.*z[0:-1]))\n",
    "    \n",
    "    # Calculate the upper value of the limiters\n",
    "    Q_max = 0.5*(alpha[i-1] + alpha[i])*(delta_z)\n",
    "    \n",
    "    if plus==True:\n",
    "        # Interpolated S = u_(+,i+1/2), p_(+,i+1/2), d_(+,i+1/2)\n",
    "        Q_curr = u_p[i]*S[i-1] + p_p[i]*S[i] + d_p[i]*S[i+1]\n",
    "        return(max(min(Q_curr,Q_max),0.))\n",
    "    elif plus==False:\n",
    "        # Interpolated S = u_(-,i+1/2), p_(-,i+1/2), d_(-,i+1/2)\n",
    "        Q_curr = u_m[i]*S[i+1] + p_m[i]*S[i] + d_m[i]*S[i-1]\n",
    "        return(max(min(Q_curr,Q_max),0.))"
   ]
  },
  {
   "cell_type": "markdown",
   "metadata": {},
   "source": [
    "### The tri-diagonal solver"
   ]
  },
  {
   "cell_type": "code",
   "execution_count": null,
   "metadata": {},
   "outputs": [],
   "source": [
    "# This solver can solve diagonally dominant or non-diagonally dominant tridiagonal matrices\n",
    "# Thomas Algorithm is used if diagonally dominant\n",
    "# Forward elimination for a tridiagonal matrix\n",
    "# Based on the algorithm found in Dullemond Ch4 notes\n",
    "# Backward Substition is then applied\n",
    "# Otherwise solve it the long way for non-diagonally dominant\n",
    "def tri_solver(a,b,c,y,n):\n",
    "    \"\"\"\n",
    "    Input: \n",
    "        a = lower diagonals of matrix M\n",
    "        b = diagonals of matrix M\n",
    "        c = upper diagonals of matrix M\n",
    "        y = the solution array in the matrix equation: Mx = y (nx1)\n",
    "        n = the number of rows in matrix m\n",
    "    Output:\n",
    "        A new matrix or vector of S values \n",
    "    \"\"\"\n",
    "    # Initialize new arrays\n",
    "    c_prime = np.zeros((n))\n",
    "    y_prime = np.zeros((n))\n",
    "    X = np.zeros((n))\n",
    "        \n",
    "    for i in range(0,n):\n",
    "        if i==0:\n",
    "            c_prime[i] = c[i]/b[i]\n",
    "            y_prime[i] = y[i]/b[i]\n",
    "        elif i>0 and i<n-1:\n",
    "            c_prime[i] = c[i]/(b[i]-a[i]*c_prime[i-1])\n",
    "            y_prime[i] = (y[i]-a[i]*y_prime[i-1])/(b[i]-a[i]*c_prime[i-1])\n",
    "        elif i==n-1:\n",
    "            y_prime[i] = (y[i]-a[i]*y_prime[i-1])/(b[i]-a[i]*c_prime[i-1])\n",
    "            X[i] = y_prime[i]\n",
    "    for i in range(2,n+1):\n",
    "        j = n-i\n",
    "        X[j] = y_prime[j] - c_prime[j]*X[j+1]\n",
    "    return(X)"
   ]
  },
  {
   "cell_type": "markdown",
   "metadata": {},
   "source": [
    "## 3) Solve for converged S"
   ]
  },
  {
   "cell_type": "code",
   "execution_count": null,
   "metadata": {},
   "outputs": [],
   "source": [
    "# Initialize I+ and I-\n",
    "# These are not initial values\n",
    "I_plus = np.zeros((n))\n",
    "I_plus[0] = 1.\n",
    "I_minus = np.zeros((n))\n",
    "\n",
    "# Start with an initial guess for J\n",
    "# The mean specific intensity\n",
    "J = np.zeros((n))\n",
    "J[0] = 1.\n",
    "\n",
    "# Set the initial source function\n",
    "# Ch.4 equation 4.37\n",
    "S = epsilon*B + (np.ones(n) - epsilon)*J\n",
    "\n",
    "for j in range(0,101):\n",
    "    # Solve for I\n",
    "    # I = exp(-tau)*I_prev + S_interp\n",
    "    # S_interp = u_(+,i+1/2), p_(+,i+1/2), d_(+,i+1/2) or u_(-,i+1/2), p_(-,i+1/2), d_(-,i+1/2)\n",
    "    # depending on the direction of integration\n",
    "    # ----------------------------------------------------------------------\n",
    "    # For 2D and 3D use the function defined for \n",
    "    # quadratic Bezier interpolation to find the new value for I(U)\n",
    "    # For 1D just use the i-1 grid point for the exponential term\n",
    "    # Use a different third-order-quadrature method for S contributions\n",
    "    # Ch.4 equation 4.53 and 4.54\n",
    "    for i in range(1,n-1):\n",
    "        I_plus[i] = np.exp(-tau[i-1])*I_plus[i-1] + S_interp(i,S,B,z,del_z,plus=True)\n",
    "        I_minus[i] = np.exp(-tau[i])*I_minus[i-1] + S_interp(i,S,B,z,del_z,plus=False)\n",
    "        \n",
    "    # Solve for J\n",
    "    # Ch.4 equation 4.56\n",
    "    # J = 0.5*int_(-1)^(1) I(mu)*d mu\n",
    "    # ----------------------------------------------------------------------\n",
    "    J = 0.5*(I_plus + I_minus)\n",
    "    J[0] = 1.\n",
    "    \n",
    "    # Solve for S\n",
    "    # ----------------------------------------------------------------------\n",
    "    # The 1D diffusion equation is a 2nd order PDE where lambda*S is the solution\n",
    "    # The numerical representation used for this PDE is Central Space\n",
    "    # Forward substitution + backward substitution are used to solve the PDE\n",
    "\n",
    "    # Calculate Y = epsilon*B + (1 - epsilon)(J - (lambda*)*S)\n",
    "    # This is the RHS of equation 4.48 Ch.4\n",
    "    # Need to carefully use np.matmul to make sure that everything \n",
    "    # gets multiplied through correctly\n",
    "    Y = epsilon*B + (np.ones(n) - epsilon)*(J - np.transpose(np.matmul(lmbda_star,S)))\n",
    "    \n",
    "    # Solve for the new value of S\n",
    "    # Equation 4.48 Ch.4\n",
    "    S = tri_solver(M_a,M_b,M_c,Y,n)\n",
    "    S[0] = 1."
   ]
  },
  {
   "cell_type": "code",
   "execution_count": null,
   "metadata": {},
   "outputs": [],
   "source": [
    "y = S/B\n",
    "z = z[:-1]\n",
    "plt.semilogy(z,y)\n",
    "plt.title(\"S/B vs z, epsilon=%1.3f\" %epsilon[0])\n",
    "plt.xlabel(\"z\")\n",
    "plt.ylabel(\"S/B\")\n",
    "#plt.ylim(0.0001,1.2)\n",
    "plt.xlim(-0.01,1.0)\n",
    "plt.show()"
   ]
  },
  {
   "cell_type": "code",
   "execution_count": null,
   "metadata": {},
   "outputs": [],
   "source": [
    "### This is used for checking the matrix multiplication function in C++ ###\n",
    "\n",
    "#num = 10\n",
    "#mat_lambda = np.zeros((num,num))\n",
    "#mat_S = np.zeros((num))\n",
    "#for i in range(0,num):\n",
    "#    if (i==0):\n",
    "#        mat_lambda[i][i] = float(i)\n",
    "#        mat_lambda[i][i+1] = float(i)/10.\n",
    "#        mat_S[i] = float(i)/2.\n",
    "#    elif (i==num-1):\n",
    "#        mat_lambda[i][i-1] = float(i)/10.\n",
    "#        mat_lambda[i][i] = float(i)\n",
    "#        mat_S[i]  = float(i)/2.\n",
    "#    else:\n",
    "#        mat_lambda[i][i-1] = float(i)/10.\n",
    "#        mat_lambda[i][i] = float(i)\n",
    "#        mat_lambda[i][i+1] = float(i)/10.\n",
    "#        mat_S[i] = float(i)/2.\n",
    "        \n",
    "#res_mat = np.matmul(mat_lambda,mat_S)\n",
    "\n",
    "#print(res_mat)"
   ]
  }
 ],
 "metadata": {
  "kernelspec": {
   "display_name": "Python 3",
   "language": "python",
   "name": "python3"
  },
  "language_info": {
   "codemirror_mode": {
    "name": "ipython",
    "version": 3
   },
   "file_extension": ".py",
   "mimetype": "text/x-python",
   "name": "python",
   "nbconvert_exporter": "python",
   "pygments_lexer": "ipython3",
   "version": "3.7.0"
  }
 },
 "nbformat": 4,
 "nbformat_minor": 2
}
