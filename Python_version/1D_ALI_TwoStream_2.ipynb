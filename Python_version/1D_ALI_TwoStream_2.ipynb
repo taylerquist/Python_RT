{
 "cells": [
  {
   "cell_type": "markdown",
   "metadata": {},
   "source": [
    "# ALI numerical algorithm for the 1D two-stream approximation"
   ]
  },
  {
   "cell_type": "markdown",
   "metadata": {},
   "source": [
    "## Notes references"
   ]
  },
  {
   "cell_type": "markdown",
   "metadata": {},
   "source": [
    "### Dullemond Radiative Transfer class notes:\n",
    "    Chapter 3: http://www.ita.uni-heidelberg.de/~dullemond/lectures/radtrans_2012/Chapter_3.pdf\n",
    "    Chapter 4: http://www.ita.uni-heidelberg.de/~dullemond/lectures/radtrans_2012/Chapter_4.pdf"
   ]
  },
  {
   "cell_type": "markdown",
   "metadata": {},
   "source": [
    "## Imports"
   ]
  },
  {
   "cell_type": "code",
   "execution_count": 1,
   "metadata": {},
   "outputs": [],
   "source": [
    "import numpy as np\n",
    "from numpy import linalg as LA\n",
    "import matplotlib.pyplot as plt"
   ]
  },
  {
   "cell_type": "markdown",
   "metadata": {},
   "source": [
    "## 1) Set parameters, variables, and boundary values"
   ]
  },
  {
   "cell_type": "markdown",
   "metadata": {},
   "source": [
    "### Set the grid"
   ]
  },
  {
   "cell_type": "code",
   "execution_count": 2,
   "metadata": {},
   "outputs": [],
   "source": [
    "# Set the number of grid points\n",
    "n = 70\n",
    "# For a few of the applications we need N+1 things\n",
    "N = n+1\n",
    "\n",
    "# Set the 1D grid\n",
    "z = np.linspace(0.,1.,num=N)\n",
    "\n",
    "# Set delta z (grid spacing value)\n",
    "del_z = z[1]"
   ]
  },
  {
   "cell_type": "markdown",
   "metadata": {},
   "source": [
    "### Gas variables"
   ]
  },
  {
   "cell_type": "code",
   "execution_count": 3,
   "metadata": {},
   "outputs": [],
   "source": [
    "# Set the thermal source function (aka the Planck function) B\n",
    "# See Ch.4 section 4.4.2 to follow the example\n",
    "# In this case it is constant at each depth\n",
    "B = np.ones(n)\n",
    "\n",
    "# Photon destruction probability\n",
    "# In this example it is constant \n",
    "# and equals 0.1, 0.01, or 0.001\n",
    "epsilon = np.ones(n)*0.001"
   ]
  },
  {
   "cell_type": "markdown",
   "metadata": {},
   "source": [
    "### Optical depth"
   ]
  },
  {
   "cell_type": "code",
   "execution_count": 4,
   "metadata": {},
   "outputs": [],
   "source": [
    "# Change in optical depth (delta tau)\n",
    "# Right now it's set based on section 4.4.5\n",
    "# There will be more options to calculate this depending on what \n",
    "# information is given in the problem. It is also constant \n",
    "# here because our grid spacing is equal\n",
    "\n",
    "# The extinction coefficient is\n",
    "# 10.^(5. - 6.*z)\n",
    "\n",
    "# Ch.4, equation 4.55\n",
    "def tau_fn(z_arr):\n",
    "    \"\"\"\n",
    "    Input:\n",
    "        z_arr = grid\n",
    "    Output:\n",
    "        tau = array of the difference in optical depth (delta tau) at each grid cell\n",
    "    \"\"\"\n",
    "    # Get the length, delta z, and set the array for delta tau\n",
    "    # All based on the array given\n",
    "    l = len(z_arr) - 1\n",
    "    delta_z = z_arr[1]\n",
    "    tau_arr = np.zeros((l))\n",
    "    for i in range(0,l):\n",
    "        j = z_arr[i] + delta_z/2.\n",
    "        # delta tau = sqrt(3)*alpha_i*(delta z)\n",
    "        tau_arr[i] = np.sqrt(3.)*(10.**(5. - (6.*j)))*delta_z\n",
    "    return(tau_arr)"
   ]
  },
  {
   "cell_type": "code",
   "execution_count": 5,
   "metadata": {},
   "outputs": [],
   "source": [
    "# In this case the variable tau = delta tau\n",
    "tau = tau_fn(z)"
   ]
  },
  {
   "cell_type": "markdown",
   "metadata": {},
   "source": [
    "## 2) Create matrices, interpolation functions, and a matrix solver"
   ]
  },
  {
   "cell_type": "markdown",
   "metadata": {},
   "source": [
    "### Quadratic Bezier Interpolation for I(U)"
   ]
  },
  {
   "cell_type": "code",
   "execution_count": 6,
   "metadata": {},
   "outputs": [],
   "source": [
    "# Interpolation coefficients \n",
    "# Only need interpolation if working in 2D or 3D\n",
    "# Still not exactly sure how to define t\n",
    "#t = 0.5\n",
    "#m = 1. - t\n",
    "\n",
    "#def I_interp(i,j):\n",
    "#    \"\"\"\n",
    "#    Input: location on grid\n",
    "#        i = x-coordinate \n",
    "#        j = y-coordinate\n",
    "#    Output: Value of thrid-order-quadrature specific intensity value \n",
    "#        at the input location on grid\n",
    "#    \"\"\"\n",
    "#    return(I[i-1,j]*u**2 + I[i+1,j]*2.*u*t + I[i+2,j]*t**2)"
   ]
  },
  {
   "cell_type": "markdown",
   "metadata": {},
   "source": [
    "### Third order quadratic interpolation for the source contribution"
   ]
  },
  {
   "cell_type": "code",
   "execution_count": 7,
   "metadata": {},
   "outputs": [
    {
     "name": "stdout",
     "output_type": "stream",
     "text": [
      "[1.         1.         1.         1.         1.         1.\n",
      " 1.         1.         1.         1.         1.         1.\n",
      " 1.         1.         1.         1.         1.         1.\n",
      " 1.         1.         1.         1.         1.         1.\n",
      " 1.         0.9999999  0.99999823 0.99998102 0.99986697 0.99934207\n",
      " 0.99755616 0.99282386 0.98262523 0.96409419 0.93484509 0.89373765\n",
      " 0.84123192 0.77924356 0.71064958 0.63868359 0.56641545 0.49641012\n",
      " 0.43057365 0.37014469 0.3157757  0.26765477 0.22563377 0.18934315\n",
      " 0.15828489 0.13190213 0.10962785 0.09091659 0.07526316 0.06221216\n",
      " 0.05136115 0.04235989 0.03490703 0.02874571 0.02365855 0.01946264\n",
      " 0.01600477 0.01315713 0.01081337 0.00888523 0.00729964 0.00599614\n",
      " 0.00492483 0.00404453 0.00332133 0.00272726]\n"
     ]
    }
   ],
   "source": [
    "# Interpolation coefficients\n",
    "# Functions of optical depth\n",
    "# Equations 3.43, 3.44, 3.45 from Ch.3\n",
    "# They are in fact different for I+ and I-\n",
    "e0 = np.ones((n)) - np.exp(-tau)\n",
    "e1 = tau - e0\n",
    "e2 = tau**2 - (2.*e1)\n",
    "\n",
    "# Initialize the arrays for the coefficients\n",
    "u_p = np.zeros((n))\n",
    "p_p = np.zeros((n))\n",
    "d_p = np.zeros((n))\n",
    "u_m = np.zeros((n))\n",
    "p_m = np.zeros((n))\n",
    "d_m = np.zeros((n))\n",
    "\n",
    "# Equations 3.40, 3.41, 3.42 from Ch.3\n",
    "for i in range(0,n-1):\n",
    "    # Handle overshoot and undershoot of interpolation\n",
    "    \n",
    "    # I_+ coefficients, n of them\n",
    "    u_p[i] = e0[i] + (e2[i] - (2.*tau[i] + tau[i+1])*e1[i])/(tau[i]*(tau[i]+tau[i+1]))\n",
    "    p_p[i] = (((tau[i]+tau[i+1])*e1[i])-e2[i])/(tau[i]+tau[i+1])\n",
    "    d_p[i] = (e2[i] - tau[i]*e1[i])/(tau[i+1]*(tau[i]+tau[i+1]))\n",
    "    # I_- coefficients, n of them\n",
    "    u_m[i] = e0[i+1] + (e2[i+1] - (2.*tau[i+1] + tau[i])*e1[i+1])/(tau[i+1]*(tau[i+1]+tau[i]))\n",
    "    p_m[i] = (((tau[i+1]+tau[i])*e1[i+1])-e2[i+1])/(tau[i]+tau[i+1])\n",
    "    d_m[i] = (e2[i+1] - tau[i+1]*e1[i+1])/(tau[i]*(tau[i+1]+tau[i]))\n",
    "    \n",
    "print(e0)"
   ]
  },
  {
   "cell_type": "markdown",
   "metadata": {},
   "source": [
    "### Partial Lambda Operator"
   ]
  },
  {
   "cell_type": "code",
   "execution_count": 8,
   "metadata": {},
   "outputs": [],
   "source": [
    "# These are the lower diagonal, diagonal, and upper diagonal\n",
    "# pieces of the simplified lambda operator. These will \n",
    "# vary across the grid if tau varies with z\n",
    "\n",
    "v = len(u_p)\n",
    " \n",
    "# Ch.4 equations 4.57, 4.58, 4.59\n",
    "\n",
    "# Lower Diagonal\n",
    "# The 0th term of the lower diagonal must be 0\n",
    "lmbda_l = 0.5*(u_p+d_m)\n",
    "lmbda_l[0] = 0.\n",
    "\n",
    "# Diagonal \n",
    "lmbda_d = 0.5*(p_p+p_m)\n",
    "\n",
    "# Upper Diagonal\n",
    "# The n-1 term of the upper diagonal must be 0\n",
    "lmbda_u = 0.5*(d_p+u_m)\n",
    "lmbda_u[n-1] = 0.\n",
    "\n",
    "\n",
    "# Construct the actual matrix\n",
    "# Needed for updating the source function later\n",
    "lmbda_star = np.zeros((n,n))\n",
    "for i in range(0,n):\n",
    "    if i==0:\n",
    "        lmbda_star[i,i] = lmbda_d[i]\n",
    "        lmbda_star[i,i+1] = lmbda_u[i]\n",
    "    elif i==(n-1):\n",
    "        lmbda_star[i,i] = lmbda_d[i]\n",
    "        lmbda_star[i,i-1] = lmbda_l[i]\n",
    "    else:\n",
    "        lmbda_star[i,i-1] = lmbda_l[i]\n",
    "        lmbda_star[i,i] = lmbda_d[i]\n",
    "        lmbda_star[i,i+1] = lmbda_u[i]"
   ]
  },
  {
   "cell_type": "markdown",
   "metadata": {},
   "source": [
    "### M* matrix"
   ]
  },
  {
   "cell_type": "code",
   "execution_count": 9,
   "metadata": {},
   "outputs": [],
   "source": [
    "# M* = [Identity - (1-epsilon)*Lambda*]\n",
    "# Where Lambda* is the partial lambda operator \n",
    "# The matrix equation that will be solved is:\n",
    "# M*S = epsilon*B + (1-epsilon)(lambda - lambda*)S\n",
    "# M = np.identity(n) - lmbda*(np.ones((n))-epsilon)\n",
    "\n",
    "# Ch.4 equation 4.47\n",
    "\n",
    "# Lower Diagonal of M\n",
    "M_a =  -(np.ones((n))-epsilon)*lmbda_l\n",
    "M_a[0] = 0.\n",
    "\n",
    "# Diagonal \n",
    "M_b = np.ones((n)) - (np.ones((n))-epsilon)*lmbda_d\n",
    "\n",
    "# Upper Diagonal \n",
    "M_c =  -(np.ones((n))-epsilon)*lmbda_u\n",
    "M_c[n-1] = 0."
   ]
  },
  {
   "cell_type": "markdown",
   "metadata": {},
   "source": [
    "### 1D Source term interpolation"
   ]
  },
  {
   "cell_type": "code",
   "execution_count": 10,
   "metadata": {},
   "outputs": [],
   "source": [
    "# Define the 1D source term interpolation function\n",
    "# Ch.3 3.39 -- note that there must be different coefficients\n",
    "# for upward and downward integration approximations.\n",
    "# It takes into account the maximum quadrature limiter\n",
    "# This prevents non-physical occurrences during the interpolation\n",
    "# Equation 3.37 Ch.3 \n",
    "def S_interp(i,S,B,z,delta_z,plus=True):\n",
    "    \"\"\"\n",
    "    Input: \n",
    "        i = location on grid, make sure to not exceed i=n-2\n",
    "        S = Source value at each gridpoint\n",
    "        delta_z = The difference between grid points\n",
    "        plus = True if we are dealing with the ray that\n",
    "               is being integrated from the bottom to top\n",
    "               False if integrated from the top to bottom\n",
    "    Output: Value of thrid-order-quadrature source value\n",
    "            for the two-stream approximation preventing any\n",
    "            negative values.\n",
    "        at the input location on grid\n",
    "    \"\"\"\n",
    "    # Calculate emissivity across the grid\n",
    "    # Equation 3.10 Chap.3: Third order quadratic integration...\n",
    "    # emiss = B*alpha \n",
    "    # alpha = 10.**(5. - 6.*z)\n",
    "    alpha = B*(10.**(5. - 6.*z[0:-1]))\n",
    "    \n",
    "    # Calculate the upper value of the limiters\n",
    "    Q_max = 0.5*(alpha[i-1] + alpha[i])*(delta_z)\n",
    "    \n",
    "    if plus==True:\n",
    "        # Interpolated S = u_(+,i+1/2), p_(+,i+1/2), d_(+,i+1/2)\n",
    "        Q_curr = u_p[i]*S[i-1] + p_p[i]*S[i] + d_p[i]*S[i+1]\n",
    "        return(max(min(Q_curr,Q_max),0.))\n",
    "    elif plus==False:\n",
    "        # Interpolated S = u_(-,i+1/2), p_(-,i+1/2), d_(-,i+1/2)\n",
    "        Q_curr = u_m[i]*S[i+1] + p_m[i]*S[i] + d_m[i]*S[i-1]\n",
    "        return(max(min(Q_curr,Q_max),0.))"
   ]
  },
  {
   "cell_type": "markdown",
   "metadata": {},
   "source": [
    "### The tri-diagonal solver"
   ]
  },
  {
   "cell_type": "code",
   "execution_count": 11,
   "metadata": {},
   "outputs": [],
   "source": [
    "# This solver can solve diagonally dominant or non-diagonally dominant tridiagonal matrices\n",
    "# Thomas Algorithm is used if diagonally dominant\n",
    "# Forward elimination for a tridiagonal matrix\n",
    "# Based on the algorithm found in Dullemond Ch4 notes\n",
    "# Backward Substition is then applied\n",
    "# Otherwise solve it the long way for non-diagonally dominant\n",
    "def tri_solver(a,b,c,y,n):\n",
    "    \"\"\"\n",
    "    Input: \n",
    "        a = lower diagonals of matrix M\n",
    "        b = diagonals of matrix M\n",
    "        c = upper diagonals of matrix M\n",
    "        y = the solution array in the matrix equation: Mx = y (nx1)\n",
    "        n = the number of rows in matrix m\n",
    "    Output:\n",
    "        A new matrix or vector of S values \n",
    "    \"\"\"\n",
    "    # Initialize new arrays\n",
    "    c_prime = np.zeros((n))\n",
    "    y_prime = np.zeros((n))\n",
    "    X = np.zeros((n))\n",
    "        \n",
    "    for i in range(0,n):\n",
    "        if i==0:\n",
    "            c_prime[i] = c[i]/b[i]\n",
    "            y_prime[i] = y[i]/b[i]\n",
    "        elif i>0 and i<n-1:\n",
    "            c_prime[i] = c[i]/(b[i]-a[i]*c_prime[i-1])\n",
    "            y_prime[i] = (y[i]-a[i]*y_prime[i-1])/(b[i]-a[i]*c_prime[i-1])\n",
    "        elif i==n-1:\n",
    "            y_prime[i] = (y[i]-a[i]*y_prime[i-1])/(b[i]-a[i]*c_prime[i-1])\n",
    "            X[i] = y_prime[i]\n",
    "    for i in range(2,n+1):\n",
    "        j = n-i\n",
    "        X[j] = y_prime[j] - c_prime[j]*X[j+1]\n",
    "    return(X)"
   ]
  },
  {
   "cell_type": "markdown",
   "metadata": {},
   "source": [
    "## 3) Solve for converged S"
   ]
  },
  {
   "cell_type": "code",
   "execution_count": 12,
   "metadata": {},
   "outputs": [],
   "source": [
    "# Initialize I+ and I-\n",
    "# These are not initial values\n",
    "I_plus = np.zeros((n))\n",
    "I_plus[0] = 1.\n",
    "I_minus = np.zeros((n))\n",
    "\n",
    "# Start with an initial guess for J\n",
    "# The mean specific intensity\n",
    "J = np.zeros((n))\n",
    "J[0] = 1.\n",
    "\n",
    "# Initial Source function\n",
    "# Ch.4 equation 4.37\n",
    "S = epsilon*B + (np.ones(n) - epsilon)*J\n",
    "# or\n",
    "# Ch.3 section 3.8.2 equation 3.29\n",
    "# First need to set the extinction coefficient (alpha) and emissivity (j) at each grid point\n",
    "#alpha_arr = B*(10.**(5. - 6.*z[0:-1]))\n",
    "#j_arr = J*alpha_arr\n",
    "#S = j_arr/alpha_arr\n",
    "\n",
    "# Initialize this value to help update S\n",
    "Y = np.zeros((n))\n",
    "\n",
    "for j in range(0,101):\n",
    "    # Solve for I\n",
    "    # I = exp(-tau)*I_prev + S_interp\n",
    "    # S_interp = u_(+,i+1/2), p_(+,i+1/2), d_(+,i+1/2) or u_(-,i+1/2), p_(-,i+1/2), d_(-,i+1/2)\n",
    "    # depending on the direction of integration\n",
    "    # ----------------------------------------------------------------------\n",
    "    # For 2D and 3D use the function defined for \n",
    "    # quadratic Bezier interpolation to find the new value for I(U)\n",
    "    # For 1D just use the i-1 grid point for the exponential term\n",
    "    # Use a different third-order-quadrature method for S contributions\n",
    "    # Ch.4 equation 4.53 and 4.54\n",
    "    for i in range(1,n-1):\n",
    "        I_plus[i] = np.exp(-tau[i-1])*I_plus[i-1] + S_interp(i,S,B,z,del_z,plus=True)\n",
    "        I_minus[i] = np.exp(-tau[i])*I_minus[i-1] + S_interp(i,S,B,z,del_z,plus=False)\n",
    "        #alpha_arr[i] = S_interp(i,alpha_arr,B,z,del_z,plus=True)\n",
    "        #Y[i] = S_interp(i,S,B,z,del_z,plus=True)\n",
    "        \n",
    "    # Solve for J\n",
    "    # Ch.4 equation 4.56\n",
    "    # J = 0.5*int_(-1)^(1) I(mu)*d mu\n",
    "    # ----------------------------------------------------------------------\n",
    "    J = 0.5*(I_plus + I_minus)\n",
    "    J[0] = 1.\n",
    "    \n",
    "    # Solve for S\n",
    "    # ----------------------------------------------------------------------\n",
    "    # The 1D diffusion equation is a 2nd order PDE where lambda*S is the solution\n",
    "    # The numerical representation used for this PDE is Central Space\n",
    "    # Forward substitution + backward substitution are used to solve the PDE\n",
    "\n",
    "    # Calculate Y = epsilon*B + (1 - epsilon)(J - (lambda*)*S)\n",
    "    # This is the RHS of equation 4.48 Ch.4\n",
    "    # Need to carefully use np.matmul to make sure that everything \n",
    "    # gets multiplied through correctly\n",
    "    Y = epsilon*B + (np.ones(n) - epsilon)*(J - np.transpose(np.matmul(lmbda_star,S)))\n",
    "    # or\n",
    "    #j_arr = J*alpha_arr\n",
    "    #Y = J\n",
    "    \n",
    "    # Solve for the new value of S\n",
    "    # Equation 4.48 Ch.4\n",
    "    S = tri_solver(M_a,M_b,M_c,Y,n)"
   ]
  },
  {
   "cell_type": "code",
   "execution_count": 13,
   "metadata": {},
   "outputs": [
    {
     "name": "stdout",
     "output_type": "stream",
     "text": [
      "[ 1.00000000e+000 -1.29680198e-004 -1.60160531e-004 -1.98416595e-004\n",
      " -2.46745740e-004 -7.35214244e-003  1.34798525e+005 -1.46167022e+013\n",
      "  8.76116312e+020 -2.90248877e+028  5.31368987e+035 -5.37454154e+042\n",
      "  3.00252798e+049 -9.26162242e+055  1.57674759e+062 -1.48078485e+068\n",
      "  7.66663669e+073 -2.18658107e+079  3.43208999e+084 -2.96119989e+089\n",
      "  1.40232261e+094 -3.63822697e+098  5.15905695e+102 -3.98645101e+106\n",
      "  1.67209895e+110 -3.78808798e+113  4.60516230e+116 -2.98062911e+119\n",
      "  1.01888109e+122 -1.82917857e+124  1.72133119e+126 -8.46821898e+127\n",
      "  2.13912095e+129 -2.58703223e+130  1.15477296e+131  4.32037701e+130\n",
      "  9.43775404e+129  1.56512296e+129  2.14293653e+128  2.50301475e+127\n",
      "  2.52473207e+126  2.20528456e+125  1.66501460e+124  1.08226157e+123\n",
      "  6.02651669e+121  2.86012316e+120  1.15112612e+119  3.91088472e+117\n",
      "  1.11695135e+116  2.67180896e+114  5.33581400e+112  8.87209991e+110\n",
      "  1.22536356e+109  1.40299069e+107  1.32944603e+105  1.04113028e+103\n",
      "  6.73055095e+100  3.58827023e+098  1.57636997e+096  5.70268319e+093\n",
      "  1.69788480e+091  4.15859532e+088  8.37588792e+085  1.38683840e+083\n",
      "  1.88721117e+080  2.11019828e+077  1.93846901e+074  1.46273402e+071\n",
      "  9.06550004e+067  1.00000000e-003]\n"
     ]
    },
    {
     "data": {
      "image/png": "[encoded data removed]",
      "text/plain": [
       "<Figure size 432x288 with 1 Axes>"
      ]
     },
     "metadata": {
      "needs_background": "light"
     },
     "output_type": "display_data"
    }
   ],
   "source": [
    "y = S/B\n",
    "print(y)\n",
    "z = z[:-1]\n",
    "plt.semilogy(z,y)\n",
    "plt.title(\"S/B vs z, epsilon=%1.3f\" %epsilon[0])\n",
    "plt.xlabel(\"z\")\n",
    "plt.ylabel(\"S/B\")\n",
    "#plt.ylim(1.e-8,1.1)\n",
    "plt.xlim(-0.01,1.0)\n",
    "plt.show()"
   ]
  },
  {
   "cell_type": "code",
   "execution_count": 14,
   "metadata": {},
   "outputs": [],
   "source": [
    "### This is used for checking the matrix multiplication function in C++ ###\n",
    "\n",
    "#num = 10\n",
    "#mat_lambda = np.zeros((num,num))\n",
    "#mat_S = np.zeros((num))\n",
    "#for i in range(0,num):\n",
    "#    if (i==0):\n",
    "#        mat_lambda[i][i] = float(i)\n",
    "#        mat_lambda[i][i+1] = float(i)/10.\n",
    "#        mat_S[i] = float(i)/2.\n",
    "#    elif (i==num-1):\n",
    "#        mat_lambda[i][i-1] = float(i)/10.\n",
    "#        mat_lambda[i][i] = float(i)\n",
    "#        mat_S[i]  = float(i)/2.\n",
    "#    else:\n",
    "#        mat_lambda[i][i-1] = float(i)/10.\n",
    "#        mat_lambda[i][i] = float(i)\n",
    "#        mat_lambda[i][i+1] = float(i)/10.\n",
    "#        mat_S[i] = float(i)/2.\n",
    "        \n",
    "#res_mat = np.matmul(mat_lambda,mat_S)\n",
    "\n",
    "#print(res_mat)"
   ]
  }
 ],
 "metadata": {
  "kernelspec": {
   "display_name": "Python 3",
   "language": "python",
   "name": "python3"
  },
  "language_info": {
   "codemirror_mode": {
    "name": "ipython",
    "version": 3
   },
   "file_extension": ".py",
   "mimetype": "text/x-python",
   "name": "python",
   "nbconvert_exporter": "python",
   "pygments_lexer": "ipython3",
   "version": "3.7.0"
  }
 },
 "nbformat": 4,
 "nbformat_minor": 2
}
