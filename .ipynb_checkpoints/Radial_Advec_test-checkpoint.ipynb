{
 "cells": [
  {
   "cell_type": "markdown",
   "metadata": {},
   "source": [
    "# Expected solution for a Radial Advection Test\n",
    "\n",
    "Following Kannan et al. 2018."
   ]
  },
  {
   "cell_type": "markdown",
   "metadata": {},
   "source": [
    "### Import libraries"
   ]
  },
  {
   "cell_type": "code",
   "execution_count": null,
   "metadata": {},
   "outputs": [],
   "source": [
    "import numpy as np\n",
    "import matplotlib.pyplot as plt"
   ]
  },
  {
   "cell_type": "markdown",
   "metadata": {},
   "source": [
    "### Define initial parameter values for analytical solution"
   ]
  },
  {
   "cell_type": "code",
   "execution_count": null,
   "metadata": {},
   "outputs": [],
   "source": [
    "# Section 3.1 of Kannan et al 2018\n",
    "# Initial values of params\n",
    "\n",
    "A0 = 40.\n",
    "r0 = 1.2\n",
    "sigma = 0.1\n",
    "c = 1."
   ]
  },
  {
   "cell_type": "markdown",
   "metadata": {},
   "source": [
    "### Define a function that computes the radius with time"
   ]
  },
  {
   "cell_type": "code",
   "execution_count": null,
   "metadata": {},
   "outputs": [],
   "source": [
    "#define a simple function that gives radius with time\n",
    "def r_t(t):\n",
    "    return c*t + r0"
   ]
  },
  {
   "cell_type": "markdown",
   "metadata": {},
   "source": [
    "### Define a function that gives the expected pulse amplitude with time."
   ]
  },
  {
   "cell_type": "code",
   "execution_count": null,
   "metadata": {},
   "outputs": [],
   "source": [
    "#define a function that provides the expected amplitude\n",
    "#as a function of time\n",
    "def Er_Amplitude(t):\n",
    "    return A0*r0/r_t(t)"
   ]
  },
  {
   "cell_type": "markdown",
   "metadata": {},
   "source": [
    "### Define a function that gives the expected solution as a function of position and time"
   ]
  },
  {
   "cell_type": "code",
   "execution_count": null,
   "metadata": {},
   "outputs": [],
   "source": [
    "#define a function to return the expected photon number density\n",
    "def Er_xyt(x,y,t):\n",
    "    A_t = Er_Amplitude(t)  #amplitude of gaussian pulse\n",
    "    rt = r_t(t)            #current radius of gaussian pulse\n",
    "    r = (x**2 + y**2)**0.5 #radial position in x,y\n",
    "    #print(rt)\n",
    "    return A_t*np.exp(-0.5*((r-rt)/sigma)**2)"
   ]
  },
  {
   "cell_type": "markdown",
   "metadata": {},
   "source": [
    "### Make a panel of Figure 1 from Kannan et al 2018"
   ]
  },
  {
   "cell_type": "code",
   "execution_count": null,
   "metadata": {},
   "outputs": [],
   "source": [
    "N = 512\n",
    "x = np.linspace(-3,3,N)\n",
    "y = np.linspace(-3,3,N)\n",
    "xx, yy = np.meshgrid(x,y)\n",
    "\n",
    "t = 0.8\n",
    "\n",
    "Er = Er_xyt(xx,yy,t)\n",
    "\n",
    "plt.imshow(Er,cmap=\"magma\",extent=[-3,3,-3,3])\n",
    "plt.xlabel(r'$x$')\n",
    "plt.ylabel(r'$y$')\n",
    "cbar = plt.colorbar()\n",
    "cbar.set_label(r'$E_r$')"
   ]
  },
  {
   "cell_type": "markdown",
   "metadata": {},
   "source": [
    "### Make a panel of Figure 2 from Kannan et al 2018"
   ]
  },
  {
   "cell_type": "code",
   "execution_count": null,
   "metadata": {},
   "outputs": [],
   "source": [
    "r_2D = np.array((xx**2 + yy**2)**0.5)            #Calculate actual r position on mesh\n",
    "r_arr = r_2D.flatten()                           #Then compress 2D r position to 1D\n",
    "r_ind = r_arr.argsort()                          #Gets correct indicy order of 1D array\n",
    "\n",
    "Er_nparray = np.array(Er)                        #Compress Er into a 1D array as well\n",
    "Er_arr = Er_nparray.flatten()\n",
    "\n",
    "fig = plt.figure(figsize = (4,4))\n",
    "ax = fig.add_subplot(111)\n",
    "ax.plot(r_arr[r_ind], Er_arr[r_ind], color='k') #Including indices orders the values correctly\n",
    "ax.set_xlim(left=1.4, right=2.6)\n",
    "ax.set_ylim(bottom=0)\n",
    "ax.set_xlabel('r')\n",
    "ax.set_ylabel('Er')\n",
    "plt.show()"
   ]
  },
  {
   "cell_type": "code",
   "execution_count": null,
   "metadata": {},
   "outputs": [],
   "source": [
    "# Energy, Flux, Arrays, Tensors\n",
    "# Not necessary for this problem but useful in the future\n",
    "\n",
    "#F_r  \n",
    "#abs_F_r = c * E_r\n",
    "#f = np.abs(F_R)/ (c_redu * E_r)\n",
    "#f = 1.\n",
    "#chi = (3. + (4. * f)**2) / (5. + 2. * np.sqrt(4. - (3. * f)**2))\n",
    "#D_tensor = \n",
    "#P_r = E_r * D_tensor\n",
    "#U_arr = np.array([E_r, F_r])"
   ]
  },
  {
   "cell_type": "code",
   "execution_count": null,
   "metadata": {},
   "outputs": [],
   "source": []
  }
 ],
 "metadata": {
  "kernelspec": {
   "display_name": "Python 3",
   "language": "python",
   "name": "python3"
  },
  "language_info": {
   "codemirror_mode": {
    "name": "ipython",
    "version": 3
   },
   "file_extension": ".py",
   "mimetype": "text/x-python",
   "name": "python",
   "nbconvert_exporter": "python",
   "pygments_lexer": "ipython3",
   "version": "3.7.0"
  }
 },
 "nbformat": 4,
 "nbformat_minor": 2
}
