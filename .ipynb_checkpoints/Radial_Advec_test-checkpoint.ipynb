{
 "cells": [
  {
   "cell_type": "markdown",
   "metadata": {},
   "source": [
    "# Solution for a Radial Advection Test\n",
    "\n",
    "Following Kannan et al. 2018."
   ]
  },
  {
   "cell_type": "markdown",
   "metadata": {},
   "source": [
    "## Import libraries"
   ]
  },
  {
   "cell_type": "code",
   "execution_count": null,
   "metadata": {},
   "outputs": [],
   "source": [
    "import numpy as np\n",
    "import matplotlib.pyplot as plt"
   ]
  },
  {
   "cell_type": "markdown",
   "metadata": {},
   "source": [
    "## Initial Values for analytic solution"
   ]
  },
  {
   "cell_type": "code",
   "execution_count": null,
   "metadata": {},
   "outputs": [],
   "source": [
    "# Section 3.1 of Kannan et al 2018\n",
    "# Initial values of params\n",
    "\n",
    "A0 = 40.\n",
    "r0 = 1.2\n",
    "sigma = 0.1\n",
    "c = 1."
   ]
  },
  {
   "cell_type": "markdown",
   "metadata": {},
   "source": [
    "## Funcitons"
   ]
  },
  {
   "cell_type": "markdown",
   "metadata": {},
   "source": [
    "### Radius with time"
   ]
  },
  {
   "cell_type": "code",
   "execution_count": null,
   "metadata": {},
   "outputs": [],
   "source": [
    "# define a simple function that gives radius with time\n",
    "def r_t(t):\n",
    "    return c*t + r0"
   ]
  },
  {
   "cell_type": "markdown",
   "metadata": {},
   "source": [
    "### 1D radial position in x,y with order of indices"
   ]
  },
  {
   "cell_type": "code",
   "execution_count": null,
   "metadata": {},
   "outputs": [],
   "source": [
    "# define a funciton that takes x,y positions, creates a 2D array, 1D array, along with array of indices for sorting\n",
    "def r_arr(x,y):\n",
    "    r_2D = np.array((x**2 + y**2)**0.5) \n",
    "    rarr = r_2D.flatten()                  \n",
    "    r_ind = rarr.argsort()             \n",
    "    return r_2D, rarr, r_ind"
   ]
  },
  {
   "cell_type": "markdown",
   "metadata": {},
   "source": [
    "### Grid spacing for x,y\n",
    "\n",
    "Not needed for analytic solution"
   ]
  },
  {
   "cell_type": "code",
   "execution_count": null,
   "metadata": {},
   "outputs": [],
   "source": [
    "def del_xy(N, xmin, xmax, ymin, ymax):\n",
    "    x_range = abs(xmin) + abs(xmax)\n",
    "    y_range = abs(ymin) + abs(ymax)\n",
    "\n",
    "    return x_range/N, y_range/N"
   ]
  },
  {
   "cell_type": "markdown",
   "metadata": {},
   "source": [
    "### Defining time step\n",
    "\n",
    "Not needed for analytic solution"
   ]
  },
  {
   "cell_type": "code",
   "execution_count": null,
   "metadata": {},
   "outputs": [],
   "source": [
    "def del_t(c_reduced, C0, del_x):\n",
    "    return C0*(del_x / c_reduced)"
   ]
  },
  {
   "cell_type": "markdown",
   "metadata": {},
   "source": [
    "### Unit vector for the direction of radiation propogation\n",
    "\n",
    "Not needed for analytic solution"
   ]
  },
  {
   "cell_type": "code",
   "execution_count": null,
   "metadata": {},
   "outputs": [],
   "source": [
    "# define the direction of radiation\n",
    "\n",
    "# Not working\n",
    "\n",
    "def n_dir(x,y):\n",
    "    yx_angle = np.array(y / x)\n",
    "    theta_arr = np.arctan(yx_angle)\n",
    "    \n",
    "    cos_2D = np.cos(theta_arr)\n",
    "    cos_arr = cos_2D.flatten()\n",
    "    cos_ind = cos_arr.argsort()\n",
    "\n",
    "    sin_2D = np.sin(theta_arr)\n",
    "    sin_arr = sin_2D.flatten()\n",
    "    sin_ind = sin_arr.argsort()\n",
    "\n",
    "    ndir = np.array([cos_arr[cos_ind], sin_arr[sin_ind]])"
   ]
  },
  {
   "cell_type": "markdown",
   "metadata": {},
   "source": [
    "### Expected pulse amplitude with time."
   ]
  },
  {
   "cell_type": "code",
   "execution_count": null,
   "metadata": {},
   "outputs": [],
   "source": [
    "# define a function that provides the expected amplitude\n",
    "# as a function of time\n",
    "def Er_Amplitude(t):\n",
    "    return A0*r0/r_t(t)"
   ]
  },
  {
   "cell_type": "markdown",
   "metadata": {},
   "source": [
    "### Photon number density as a function of position and time"
   ]
  },
  {
   "cell_type": "code",
   "execution_count": null,
   "metadata": {},
   "outputs": [],
   "source": [
    "# define a function to return the expected photon number density\n",
    "def Er_xyt(x,y,t):\n",
    "    A_t = Er_Amplitude(t)  #amplitude of gaussian pulse\n",
    "    rt = r_t(t)            #current radius of gaussian pulse\n",
    "    r = (x**2 + y**2)**0.5 #radial position in x,y\n",
    "    return A_t*np.exp(-0.5*((r-rt)/sigma)**2)"
   ]
  },
  {
   "cell_type": "markdown",
   "metadata": {},
   "source": [
    "### Photon flux with position and time\n",
    "\n",
    "Not needed for the analytic solution"
   ]
  },
  {
   "cell_type": "code",
   "execution_count": null,
   "metadata": {},
   "outputs": [],
   "source": [
    "# F_r: a function to return calculated photon flux\n",
    "# F_r is defined by r-vector: E_r*n-hat, n-hat = r-hat for this case\n",
    "# Will need to re-write this for anything beyond 1D\n",
    "\n",
    "# Not working\n",
    "\n",
    "def Fr_xyt(x,y,t):\n",
    "    r_2D, r_1D, r_ind = r_arr(x,y)\n",
    "    \n",
    "    Er = Er_xyt(x,y,t)\n",
    "    Er_arr = np.array(Er).flatten()\n",
    "    \n",
    "    n_vec = n_dir(x,y) / Er_arr[r_ind]\n",
    "    \n",
    "    return Er_arr[r_ind]*n_vec # Scalar E_r * (cos, sin)"
   ]
  },
  {
   "cell_type": "markdown",
   "metadata": {},
   "source": [
    "### Pressure tensor by computing the eddington tensor \n",
    "\n",
    "Not needed for the analytic solution"
   ]
  },
  {
   "cell_type": "code",
   "execution_count": null,
   "metadata": {},
   "outputs": [],
   "source": [
    "# Define the pressure tensor\n",
    "\n",
    "# Not working\n",
    "\n",
    "def P_tensor(x, y, t, c_red):\n",
    "    r_2D, r_1D, r_ind = r_arr(x,y)\n",
    "    \n",
    "    Er = Er_xyt(x,y,t)\n",
    "    Er_arr = np.array(Er).flatten()\n",
    "    \n",
    "    \n",
    "    F_r = Fr_xyt(x,y,t)\n",
    "    Fr_norm = np.linalg.norm(F_r, ord='fro') #Find the norm of Fr, for 1D test this is just Er\n",
    "    \n",
    "    #f = Fr_norm / (c_red * Er)               #For the 1D case this should be 1 -- not getting 1\n",
    "    f = 1.\n",
    "    \n",
    "    chi = (3. + (4.*(f**2))) / (5. + 2.*np.sqrt(4. - 3.*(f**2)))\n",
    "    \n",
    "    nhat = n_dir(x,y) / Er_arr[r_ind]\n",
    "    cross_prod = np.cross(nhat, nhat)\n",
    "    \n",
    "    D_tensor ((1. - chi) / 2.) * np.identity(2) + (((3. * chi) - 1.) / 2.) * cross_prod\n",
    "    \n",
    "    P_tensor = Er * D_tensor\n",
    "    \n",
    "    return(P_tensor)"
   ]
  },
  {
   "cell_type": "markdown",
   "metadata": {},
   "source": [
    "# Analytic Solution for Radial Advection Test"
   ]
  },
  {
   "cell_type": "markdown",
   "metadata": {},
   "source": [
    "### Make a panel of Figure 1 from Kannan et al 2018"
   ]
  },
  {
   "cell_type": "code",
   "execution_count": null,
   "metadata": {},
   "outputs": [],
   "source": [
    "N = 512\n",
    "x = np.linspace(-3,3,N)\n",
    "y = np.linspace(-3,3,N)\n",
    "xx, yy = np.meshgrid(x,y)\n",
    "\n",
    "t = 0.8\n",
    "\n",
    "Er = Er_xyt(xx,yy,t)\n",
    "\n",
    "plt.imshow(Er,cmap=\"magma\",extent=[-3,3,-3,3])\n",
    "plt.xlabel(r'$x$')\n",
    "plt.ylabel(r'$y$')\n",
    "cbar = plt.colorbar()\n",
    "cbar.set_label(r'$E_r$')"
   ]
  },
  {
   "cell_type": "markdown",
   "metadata": {},
   "source": [
    "### Make a panel of Figure 2 from Kannan et al 2018"
   ]
  },
  {
   "cell_type": "code",
   "execution_count": null,
   "metadata": {},
   "outputs": [],
   "source": [
    "r_2D, r_1D, r_ind = r_arr(xx,yy)\n",
    "\n",
    "Er_arr = np.array(Er).flatten()                 #Compress Er into a 1D array as well\n",
    "\n",
    "fig = plt.figure(figsize = (4,4))\n",
    "ax = fig.add_subplot(111)\n",
    "ax.plot(r_1D[r_ind], Er_arr[r_ind], color='k') #Including indices orders the values correctly\n",
    "ax.set_xlim(left=1.4, right=2.6)\n",
    "ax.set_ylim(bottom=0)\n",
    "ax.set_xlabel('r')\n",
    "ax.set_ylabel('Er')\n",
    "plt.show()"
   ]
  },
  {
   "cell_type": "markdown",
   "metadata": {},
   "source": [
    "# Numeric solution for a Radial Advection Test - 2D grid"
   ]
  },
  {
   "cell_type": "markdown",
   "metadata": {},
   "source": [
    "## Initial Values for grid solution"
   ]
  },
  {
   "cell_type": "code",
   "execution_count": null,
   "metadata": {},
   "outputs": [],
   "source": [
    "N = 512.     # Grid resolution, needs to be an integer\n",
    "\n",
    "x_min = -3.\n",
    "x_max = 3.\n",
    "y_min = -3.\n",
    "y_max = 3.\n",
    "dx, dy = del_xy(N, x_min, x_max, y_min, y_max) # Finding cell dimensions\n",
    "\n",
    "t_0 = 0.\n",
    "t_f = 0.8\n",
    "C_0 = 1.   # Need to write an equation to actually calculate CFL number\n",
    "c_red = 1. # \"\" reduced sound speed, aka max wave speed in a cell\n",
    "dt = del_t(c_red, C_0, dx) # Calculate time step\n",
    "\n",
    "#Need to define initial values of fluxes and U\n",
    "#F0 \n",
    "#G0\n",
    "#u0 = U_0(fluxes)"
   ]
  }
 ],
 "metadata": {
  "kernelspec": {
   "display_name": "Python 3",
   "language": "python",
   "name": "python3"
  },
  "language_info": {
   "codemirror_mode": {
    "name": "ipython",
    "version": 3
   },
   "file_extension": ".py",
   "mimetype": "text/x-python",
   "name": "python",
   "nbconvert_exporter": "python",
   "pygments_lexer": "ipython3",
   "version": "3.7.0"
  }
 },
 "nbformat": 4,
 "nbformat_minor": 2
}
