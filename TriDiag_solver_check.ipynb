{
 "cells": [
  {
   "cell_type": "markdown",
   "metadata": {},
   "source": [
    "# Import"
   ]
  },
  {
   "cell_type": "code",
   "execution_count": null,
   "metadata": {},
   "outputs": [],
   "source": [
    "import numpy as np"
   ]
  },
  {
   "cell_type": "markdown",
   "metadata": {},
   "source": [
    "# Define matrices and vectors"
   ]
  },
  {
   "cell_type": "code",
   "execution_count": null,
   "metadata": {},
   "outputs": [],
   "source": [
    "# Define n in our nxn matrix\n",
    "n=31\n",
    "\n",
    "# M matrix\n",
    "diag = 2.*np.ones((n))\n",
    "l_diag = np.ones((n-1))\n",
    "u_diag = np.ones((n-1))\n",
    "\n",
    "# b vector\n",
    "b_vec = np.transpose(np.array([1.,2.,3.,4.,5.,6.,7.,8.,9.,10.,11.,12.,13.,14.,15.,16.,15.,14.,13.,12.,11.,10.,9.,8.,7.,6.,5.,4.,3.,2.,1.]))"
   ]
  },
  {
   "cell_type": "markdown",
   "metadata": {},
   "source": [
    "# Define the functions to solve Mx = b"
   ]
  },
  {
   "cell_type": "markdown",
   "metadata": {},
   "source": [
    "## The solver"
   ]
  },
  {
   "cell_type": "code",
   "execution_count": null,
   "metadata": {},
   "outputs": [],
   "source": [
    "# Thomas Algorithm\n",
    "# Forward elimination for a tridiagonal matrix\n",
    "# Based on the algorithm found in Dullemond Ch4 notes\n",
    "# Backward Substition is then applied\n",
    "def tri_solver(a,b,c,y,n):\n",
    "    \"\"\"\n",
    "    Input: \n",
    "        a = upper diagonals of matrix M\n",
    "        b = diagonals of matrix M\n",
    "        c = lower diagonals of matrix M\n",
    "        y = the solution array in the matrix equation: Mx = y (nx1)\n",
    "        n = the number of rows in matrix m\n",
    "    Output:\n",
    "        A new matrix or vector of S values \n",
    "    \"\"\"\n",
    "    \n",
    "    # Check to see if matrix is diagonally dominant\n",
    "    flag = 0\n",
    "    comp_arr = a[:-1] + c[1:] #Add the upper and lower diagonals\n",
    "    dim = len(comp_arr)\n",
    "    for i in range(0,dim):\n",
    "        if comp_arr[i]>=c[i+1]: #See if the sum of the upper and lower diagonals are larger than the diagonal element\n",
    "            flag = 1 # Not diagonally dominant\n",
    "            break # If there is even one row that isn't diagonally dominant, we can't use the Thomas Algorithm\n",
    "            \n",
    "    # The Thomas Algorithm for diagonally dominant matrices\n",
    "    if flag == 0:\n",
    "        #-----------------------------------------------------------\n",
    "        # Perform forward elimination and backward substitution on M\n",
    "        # Thomas Algorithm: a simplified form of Gaussian Elimination\n",
    "        # specifically for tridiagonal matrices \n",
    "        \n",
    "        # Define column arrays for necessary row-specific constants\n",
    "        # This automatically sets gamma[0] = beta[0] = 0 which is \n",
    "        # necessary for the problem\n",
    "        g = np.zeros((n))\n",
    "        beta = np.zeros((n))\n",
    "    \n",
    "        for i in range(0,n-1):\n",
    "            g[i+1] = (-c[i]/(a[i]*g[i] + b[i]))\n",
    "            beta[i+1] = (y[i] - beta[i]*a[i])/b[i]\n",
    "    \n",
    "        # Use the gamma and beta constant arrays to compute \n",
    "        # what is essentially a back substitution to finish the\n",
    "        # calculation of MX = Y\n",
    "        X = np.zeros((n+1))\n",
    "        #X[0:n] = S\n",
    "        for k in range(1,n+1):\n",
    "            # Actually need to go from n, n-1, n-2,...,1\n",
    "            # So create a new place holder that goes backwards\n",
    "            c = n - k #Count backwards\n",
    "            X[c] = g[c]*X[c+1] + beta[c]\n",
    "    \n",
    "        # Return the new solution to J\n",
    "        return(X[0:n])\n",
    "    \n",
    "    # Non-diagonally dominant matrices\n",
    "    else:\n",
    "        for i in range(1,n-1):\n",
    "            w = c[i]/b[i-1]\n",
    "            b[i] = b[i] - w*a[i-1]\n",
    "            y[i] = y[i] - w*y[i-1]\n",
    "        X = np.zeros((n))\n",
    "        X[n-1] = y[n-1]/b[n-1]\n",
    "        for k in range(2,n):\n",
    "            m = n - k \n",
    "            X[m] = (y[m] - a[m]*X[m+1])/b[m]\n",
    "        return(X)"
   ]
  },
  {
   "cell_type": "markdown",
   "metadata": {},
   "source": [
    "# Results"
   ]
  },
  {
   "cell_type": "code",
   "execution_count": null,
   "metadata": {},
   "outputs": [],
   "source": [
    "# Find x\n",
    "x_arr = tri_solver(u_diag,diag,l_diag,b_vec,n)"
   ]
  },
  {
   "cell_type": "code",
   "execution_count": null,
   "metadata": {},
   "outputs": [],
   "source": [
    "print(x_arr)\n",
    "print('--------------------------------------------------------------------')\n",
    "print(np.round(x_arr))"
   ]
  },
  {
   "cell_type": "markdown",
   "metadata": {},
   "source": [
    "## True answer"
   ]
  },
  {
   "cell_type": "markdown",
   "metadata": {},
   "source": [
    "### x = [0 1 0 2 0 3 0 4 0 5 0 6 0 7 0 8 0 7 0 6 0 5 0 4 0 3 0 2 0 1 0]"
   ]
  }
 ],
 "metadata": {
  "kernelspec": {
   "display_name": "Python 3",
   "language": "python",
   "name": "python3"
  },
  "language_info": {
   "codemirror_mode": {
    "name": "ipython",
    "version": 3
   },
   "file_extension": ".py",
   "mimetype": "text/x-python",
   "name": "python",
   "nbconvert_exporter": "python",
   "pygments_lexer": "ipython3",
   "version": "3.7.0"
  }
 },
 "nbformat": 4,
 "nbformat_minor": 2
}
