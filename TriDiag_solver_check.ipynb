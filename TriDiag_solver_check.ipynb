{
 "cells": [
  {
   "cell_type": "markdown",
   "metadata": {},
   "source": [
    "# Tridiagonal Matrix Solver algorithm and Test"
   ]
  },
  {
   "cell_type": "markdown",
   "metadata": {},
   "source": [
    "## M matrix\n",
    "\n",
    "###         |b[0] c[0] 0      ...   ...     ...     0 |\n",
    "###         |a[1] b[1] c[1]     ...    ...      0 |\n",
    "###         | ...    a[2] b[2] c[2] ...0 |\n",
    "###         | ...    a[n-2] b[n-2] c[n-2] |\n",
    "###         | ...    ...   ...a[n-1] b[n-1] |"
   ]
  },
  {
   "cell_type": "markdown",
   "metadata": {},
   "source": [
    "# Import"
   ]
  },
  {
   "cell_type": "code",
   "execution_count": null,
   "metadata": {},
   "outputs": [],
   "source": [
    "import numpy as np\n",
    "from numpy.linalg import inv"
   ]
  },
  {
   "cell_type": "markdown",
   "metadata": {},
   "source": [
    "# Define matrices and vectors"
   ]
  },
  {
   "cell_type": "markdown",
   "metadata": {},
   "source": [
    "## Non-diagonally dominant matrix"
   ]
  },
  {
   "cell_type": "code",
   "execution_count": null,
   "metadata": {},
   "outputs": [],
   "source": [
    "# Define n in our nxn matrix\n",
    "n=31\n",
    "\n",
    "# M matrix\n",
    "diag = 2.*np.ones((n))\n",
    "l_diag = np.ones((n))\n",
    "u_diag = np.ones((n))\n",
    "\n",
    "l_diag[0] = 0.\n",
    "u_diag[n-1] = 0.\n",
    "\n",
    "# b vector\n",
    "# Initialize\n",
    "b_vec = np.ones((n))\n",
    "for i in range(1,n):\n",
    "    if i <= (np.round(n/2.)): \n",
    "        b_vec[i-1] = i\n",
    "    else:\n",
    "        b_vec[i-1] = (n+1)-i\n",
    "print(b_vec)"
   ]
  },
  {
   "cell_type": "markdown",
   "metadata": {},
   "source": [
    "## Diagonally dominant matrix"
   ]
  },
  {
   "cell_type": "code",
   "execution_count": null,
   "metadata": {},
   "outputs": [],
   "source": [
    "# Define the size of the matrix NxN\n",
    "N=10\n",
    "\n",
    "# Md for diagonally dominant M matrix\n",
    "Md_diag = 2.*np.ones((N))\n",
    "Md_l_diag = 0.5*np.ones((N))\n",
    "Md_u_diag = 0.5*np.ones((N))\n",
    "\n",
    "Md_l_diag[0] = 0.\n",
    "Md_u_diag[N-1] = 0.\n",
    "\n",
    "# b vector\n",
    "Md_b_vec = 4*np.ones((N))"
   ]
  },
  {
   "cell_type": "markdown",
   "metadata": {},
   "source": [
    "# Define the functions to solve Mx = b"
   ]
  },
  {
   "cell_type": "markdown",
   "metadata": {},
   "source": [
    "## The solver"
   ]
  },
  {
   "cell_type": "code",
   "execution_count": null,
   "metadata": {},
   "outputs": [],
   "source": [
    "# This solver can solve diagonally dominant or non-diagonally dominant tridiagonal matrices\n",
    "# Thomas Algorithm is used if diagonally dominant\n",
    "# Forward elimination for a tridiagonal matrix\n",
    "# Based on the algorithm found in Dullemond Ch4 notes\n",
    "# Backward Substition is then applied\n",
    "# Otherwise solve it the long way for non-diagonally dominant\n",
    "def tri_solver(a,b,c,y,n):\n",
    "    \"\"\"\n",
    "    Input: \n",
    "        a = lower diagonals of matrix M\n",
    "        b = diagonals of matrix M\n",
    "        c = upper diagonals of matrix M\n",
    "        y = the solution array in the matrix equation: Mx = y (nx1)\n",
    "        n = the number of rows in matrix m\n",
    "    Output:\n",
    "        A new matrix or vector of S values \n",
    "    \"\"\"\n",
    "    # Initialize new arrays\n",
    "    c_prime = np.zeros((n))\n",
    "    y_prime = np.zeros((n))\n",
    "    X = np.zeros((n))\n",
    "        \n",
    "    for i in range(0,n):\n",
    "        if i==0:\n",
    "            c_prime[i] = c[i]/b[i]\n",
    "            y_prime[i] = y[i]/b[i]\n",
    "        elif i>0 and i<n-1:\n",
    "            c_prime[i] = c[i]/(b[i]-a[i]*c_prime[i-1])\n",
    "            y_prime[i] = (y[i]-a[i]*y_prime[i-1])/(b[i]-a[i]*c_prime[i-1])\n",
    "        elif i==n-1:\n",
    "            y_prime[i] = (y[i]-a[i]*y_prime[i-1])/(b[i]-a[i]*c_prime[i-1])\n",
    "            X[i] = y_prime[i]\n",
    "    for i in range(2,n+1):\n",
    "        j = n-i\n",
    "        X[j] = y_prime[j] - c_prime[j]*X[j+1]\n",
    "    return(X)"
   ]
  },
  {
   "cell_type": "markdown",
   "metadata": {},
   "source": [
    "# Results"
   ]
  },
  {
   "cell_type": "markdown",
   "metadata": {},
   "source": [
    "## Non-diagonally dominant"
   ]
  },
  {
   "cell_type": "code",
   "execution_count": null,
   "metadata": {},
   "outputs": [],
   "source": [
    "# Find x\n",
    "x_arr = tri_solver(l_diag,diag,u_diag,b_vec,n)\n",
    "\n",
    "print(x_arr)"
   ]
  },
  {
   "cell_type": "markdown",
   "metadata": {},
   "source": [
    "## True answer"
   ]
  },
  {
   "cell_type": "markdown",
   "metadata": {},
   "source": [
    "### x = [0 1 0 2 0 3 0 4 0 5 0 6 0 7 0 8 0 7 0 6 0 5 0 4 0 3 0 2 0 1 0]"
   ]
  },
  {
   "cell_type": "markdown",
   "metadata": {},
   "source": [
    "## Diagonally dominant"
   ]
  },
  {
   "cell_type": "code",
   "execution_count": null,
   "metadata": {},
   "outputs": [],
   "source": [
    "# Find x\n",
    "Md_x_arr = tri_solver(Md_l_diag,Md_diag,Md_u_diag,Md_b_vec,N)\n",
    "\n",
    "print(Md_x_arr)"
   ]
  },
  {
   "cell_type": "markdown",
   "metadata": {},
   "source": [
    "## True answer"
   ]
  },
  {
   "cell_type": "code",
   "execution_count": null,
   "metadata": {},
   "outputs": [],
   "source": [
    "# Find the true answer by solving x = M^(-1) y\n",
    "# 1) actually build matrix Md\n",
    "# 2) find the inverse\n",
    "# 3) solve for x analytically\n",
    "\n",
    "# 1) actually build matrix Md\n",
    "Md = np.zeros((N,N))\n",
    "for i in range(0,N):\n",
    "    if i==0:\n",
    "        Md[i,i] = Md_diag[i]\n",
    "        Md[i,i+1] = Md_u_diag[i]\n",
    "    elif i==(N-1):\n",
    "        Md[i,i] = Md_diag[i]\n",
    "        Md[i,i-1] = Md_l_diag[i]\n",
    "    else:\n",
    "        Md[i,i-1] = Md_l_diag[i]\n",
    "        Md[i,i] = Md_diag[i]\n",
    "        Md[i,i+1] = Md_u_diag[i]\n",
    "\n",
    "# 2) find the inverse using np.linalg.inv\n",
    "Md_inv = inv(Md)\n",
    "\n",
    "# 3) solve for x analytically \n",
    "true_x = np.matmul(Md_inv,Md_b_vec)\n",
    "\n",
    "print(true_x)"
   ]
  }
 ],
 "metadata": {
  "kernelspec": {
   "display_name": "Python 3",
   "language": "python",
   "name": "python3"
  },
  "language_info": {
   "codemirror_mode": {
    "name": "ipython",
    "version": 3
   },
   "file_extension": ".py",
   "mimetype": "text/x-python",
   "name": "python",
   "nbconvert_exporter": "python",
   "pygments_lexer": "ipython3",
   "version": "3.7.0"
  }
 },
 "nbformat": 4,
 "nbformat_minor": 2
}
