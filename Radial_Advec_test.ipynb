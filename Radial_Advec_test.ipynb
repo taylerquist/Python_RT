{
 "cells": [
  {
   "cell_type": "markdown",
   "metadata": {},
   "source": [
    "# Solution for a Radial Advection Test\n",
    "\n",
    "Following Kannan et al. 2018."
   ]
  },
  {
   "cell_type": "markdown",
   "metadata": {},
   "source": [
    "## Import libraries"
   ]
  },
  {
   "cell_type": "code",
   "execution_count": 1,
   "metadata": {},
   "outputs": [],
   "source": [
    "import numpy as np\n",
    "import matplotlib.pyplot as plt"
   ]
  },
  {
   "cell_type": "markdown",
   "metadata": {},
   "source": [
    "## Initial Values for analytic solution"
   ]
  },
  {
   "cell_type": "code",
   "execution_count": 2,
   "metadata": {},
   "outputs": [],
   "source": [
    "# Section 3.1 of Kannan et al 2018\n",
    "# Initial values of params\n",
    "\n",
    "A0 = 40.\n",
    "r0 = 1.2\n",
    "sigma = 0.1\n",
    "c = 1."
   ]
  },
  {
   "cell_type": "markdown",
   "metadata": {},
   "source": [
    "## Functions"
   ]
  },
  {
   "cell_type": "markdown",
   "metadata": {},
   "source": [
    "### Radius with time"
   ]
  },
  {
   "cell_type": "code",
   "execution_count": 3,
   "metadata": {},
   "outputs": [],
   "source": [
    "# define a simple function that gives radius with time\n",
    "def r_t(t):\n",
    "    return c*t + r0"
   ]
  },
  {
   "cell_type": "markdown",
   "metadata": {},
   "source": [
    "### 1D radial position in x,y with order of indices"
   ]
  },
  {
   "cell_type": "code",
   "execution_count": 4,
   "metadata": {},
   "outputs": [],
   "source": [
    "# define a function that takes xy positions, creates a 2D array, 1D array, along with array of indices for sorting\n",
    "\n",
    "def r_arr(x,y):\n",
    "    r_2D = np.array((x**2 + y**2)**0.5) \n",
    "    rarr = r_2D.flatten()                  \n",
    "    r_ind = rarr.argsort()             \n",
    "    return r_2D, rarr, r_ind"
   ]
  },
  {
   "cell_type": "markdown",
   "metadata": {},
   "source": [
    "### Defining time step\n",
    "\n",
    "Not needed for analytic solution"
   ]
  },
  {
   "cell_type": "code",
   "execution_count": null,
   "metadata": {},
   "outputs": [],
   "source": [
    "# Delta t for grid solver\n",
    "# Need to fix this \n",
    "\n",
    "def del_t(c_reduced, C0, del_x, del_y):\n",
    "    return C0*min(del_x / c_reduced, del_y / c_reduced)"
   ]
  },
  {
   "cell_type": "markdown",
   "metadata": {},
   "source": [
    "### Unit vector for the direction of radiation propagation \n",
    "\n",
    "Not needed for analytic solution"
   ]
  },
  {
   "cell_type": "code",
   "execution_count": null,
   "metadata": {},
   "outputs": [],
   "source": [
    "# define the direction of radiation\n",
    "# All positions must be centered on zero\n",
    "# Be careful about where the origin - for now should be ok\n",
    "# Input takes a 1D or 2D x and y array(s)\n",
    "\n",
    "def n_dir(xx,yy):\n",
    "    theta_arr = np.arctan2(yy,xx)     # Calculates angle based on xy position, keeps track of quadrant\n",
    "    \n",
    "    cos_2D = np.cos(theta_arr)        # Plug theta array into cosine\n",
    "\n",
    "    sin_2D = np.sin(theta_arr)        # Plug theta array into sine\n",
    "\n",
    "    return np.array([cos_2D, sin_2D]) # r-direction - for initial dir"
   ]
  },
  {
   "cell_type": "markdown",
   "metadata": {},
   "source": [
    "### Expected pulse amplitude with time."
   ]
  },
  {
   "cell_type": "code",
   "execution_count": null,
   "metadata": {},
   "outputs": [],
   "source": [
    "# define a function that provides the expected amplitude\n",
    "# as a function of time\n",
    "\n",
    "def Er_Amplitude(t):\n",
    "    return A0*r0/r_t(t)"
   ]
  },
  {
   "cell_type": "markdown",
   "metadata": {},
   "source": [
    "### Photon number density as a function of position and time\n",
    "\n",
    "Used for initial calculation and analytic solution"
   ]
  },
  {
   "cell_type": "code",
   "execution_count": 5,
   "metadata": {},
   "outputs": [],
   "source": [
    "# define a function to return the expected photon number density\n",
    "\n",
    "def Er_xyt(x,y,t):\n",
    "    A_t = Er_Amplitude(t)  #amplitude of gaussian pulse\n",
    "    rt = r_t(t)            #current radius of gaussian pulse\n",
    "    r = (x**2 + y**2)**0.5 #radial position in x,y\n",
    "    return A_t*np.exp(-0.5*((r-rt)/sigma)**2)"
   ]
  },
  {
   "cell_type": "markdown",
   "metadata": {},
   "source": [
    "### Photon flux with position and time\n",
    "\n",
    "Used for initial calculation"
   ]
  },
  {
   "cell_type": "code",
   "execution_count": null,
   "metadata": {},
   "outputs": [],
   "source": [
    "# Calculated photon flux\n",
    "# Used as a check and to calculate initial value\n",
    "# F_r is defined by r-vector: E_r*n-hat, n-hat = r-hat for this case\n",
    "# Will need to re-write this for anything beyond 1D\n",
    "# put in C-dependance\n",
    "\n",
    "def Fr_xyt(xx,yy,Er_xyt):\n",
    "    n_vec = n_dir(xx,yy)    # Initial direction of radiation - r-hat\n",
    "\n",
    "    return Er_xyt*n_vec     "
   ]
  },
  {
   "cell_type": "markdown",
   "metadata": {},
   "source": [
    "### Pressure tensor by computing the Eddington tensor for grid solver"
   ]
  },
  {
   "cell_type": "code",
   "execution_count": null,
   "metadata": {},
   "outputs": [],
   "source": [
    "# Define the pressure tensor\n",
    "# Based on equations (9) and (10)\n",
    "\n",
    "# Not working - need to continue looking into matrix cross product\n",
    "\n",
    "def P_tensor(c_red, E_xyt, F_xyt):\n",
    "    # Er and Fr are going to have to be updated from previous values   \n",
    "    \n",
    "    Fxyt_norm = np.linalg.norm(F_xyt, ord='fro') # Find the norm of Fr, for 1D test this is just Er\n",
    "                                               #'fro' = frobenius norm\n",
    "    f = Fxyt_norm / (c_red * E_xyt)              # F_r / |F_r|-- normalized F_r\n",
    "    \n",
    "    chi = (3. + (4.*(f**2))) / (5. + 2.*np.sqrt(4. - 3.*(f**2))) # Eqn 10\n",
    "    \n",
    "    n = F_xyt / Fxyt_norm                          # Eqn 10\n",
    "    \n",
    "    chi_n_term = (((3. * chi) - 1.) / 2.) * n  # Preparing for cross product (eqn 9)\n",
    "    \n",
    "    cross_prod = np.cross(chi_n_term, n)       # This does vector and matrix cross products\n",
    "\n",
    "    D_tensor = ((1. - chi) / 2.) * np.identity(2) +  cross_prod\n",
    "    \n",
    "    return E_xyt * D_tensor\n",
    "\n",
    "#taking the divergence of this gives us dFr/dt\n",
    "#And then discretize them, remainder of 3.1"
   ]
  },
  {
   "cell_type": "markdown",
   "metadata": {},
   "source": [
    "### Divergence of a Tensor"
   ]
  },
  {
   "cell_type": "code",
   "execution_count": null,
   "metadata": {},
   "outputs": [],
   "source": [
    "# Calculates the divergence of a tensor\n",
    "# Used to update F_r\n",
    "# Sum of the directional derivatives of the tensor's components\n",
    "\n",
    "#def div_tensor() "
   ]
  },
  {
   "cell_type": "markdown",
   "metadata": {},
   "source": [
    "### Photon flux for grid solver"
   ]
  },
  {
   "cell_type": "code",
   "execution_count": null,
   "metadata": {},
   "outputs": [],
   "source": [
    "# Calculated solution for Fr\n",
    "# Kappa_f = radiation flux\n",
    "# May need to write my own code for the divergence of a tensor\n",
    "\n",
    "def F_r(c_red, kappa_f, rho, p_tensor):\n",
    "    return - (c_red / (kappa_f * rho)) #* divergence of P_tensor "
   ]
  },
  {
   "cell_type": "markdown",
   "metadata": {},
   "source": [
    "### Photon number density for grid solver"
   ]
  },
  {
   "cell_type": "code",
   "execution_count": null,
   "metadata": {},
   "outputs": [],
   "source": [
    "# Calculated solution for Er\n",
    "# This is going to change based on the problem (?)\n",
    "\n",
    "def E_r(temp):\n",
    "    # a_rad is the radiation constant\n",
    "    # The default has units (J / (m**3 K**4))\n",
    "    # temp must be given in K\n",
    "    a_rad = 7.565767e-16\n",
    "    return a_rad * temp**4 "
   ]
  },
  {
   "cell_type": "markdown",
   "metadata": {},
   "source": [
    "# Analytic Solution for Radial Advection Test"
   ]
  },
  {
   "cell_type": "markdown",
   "metadata": {},
   "source": [
    "### Make a panel of Figure 1 from Kannan et al 2018"
   ]
  },
  {
   "cell_type": "code",
   "execution_count": 6,
   "metadata": {},
   "outputs": [
    {
     "data": {
      "image/png": "[encoded data removed]",
      "text/plain": [
       "<matplotlib.figure.Figure at 0x11044e400>"
      ]
     },
     "metadata": {},
     "output_type": "display_data"
    }
   ],
   "source": [
    "N = 512\n",
    "x = np.linspace(-3,3,N)\n",
    "y = np.linspace(-3,3,N)\n",
    "xx, yy = np.meshgrid(x,y)\n",
    "\n",
    "t = 0.8\n",
    "\n",
    "Er = Er_xyt(xx,yy,t)\n",
    "\n",
    "plt.imshow(Er,cmap=\"magma\",extent=[-3,3,-3,3])\n",
    "plt.xlabel(r'$x$')\n",
    "plt.ylabel(r'$y$')\n",
    "cbar = plt.colorbar()\n",
    "cbar.set_label(r'$E_r$')"
   ]
  },
  {
   "cell_type": "markdown",
   "metadata": {},
   "source": [
    "### Make a panel of Figure 2 from Kannan et al 2018"
   ]
  },
  {
   "cell_type": "code",
   "execution_count": 7,
   "metadata": {},
   "outputs": [
    {
     "data": {
      "image/png": "[encoded data removed]",
      "text/plain": [
       "<matplotlib.figure.Figure at 0x111123630>"
      ]
     },
     "metadata": {},
     "output_type": "display_data"
    }
   ],
   "source": [
    "r_2D, r_1D, r_ind = r_arr(xx,yy)\n",
    "\n",
    "Er_arr = np.array(Er).flatten()                 # Compress Er into a 1D array as well\n",
    "\n",
    "fig = plt.figure(figsize = (4,4))\n",
    "ax = fig.add_subplot(111)\n",
    "ax.plot(r_1D[r_ind], Er_arr[r_ind], color='k')  # Including indices orders the values correctly\n",
    "ax.set_xlim(left=1.4, right=2.6)\n",
    "ax.set_ylim(bottom=0)\n",
    "ax.set_xlabel('r')\n",
    "ax.set_ylabel('Er')\n",
    "plt.show()"
   ]
  },
  {
   "cell_type": "markdown",
   "metadata": {},
   "source": [
    "# Numeric solution for a Radial Advection Test - 2D grid"
   ]
  },
  {
   "cell_type": "markdown",
   "metadata": {},
   "source": [
    "## Initial Values for grid solution"
   ]
  },
  {
   "cell_type": "code",
   "execution_count": 17,
   "metadata": {},
   "outputs": [
    {
     "data": {
      "image/png": "[encoded data removed]",
      "text/plain": [
       "<matplotlib.figure.Figure at 0x11327c2e8>"
      ]
     },
     "metadata": {},
     "output_type": "display_data"
    }
   ],
   "source": [
    "r_arr = (xx**2 + yy**2)**0.5\n",
    "r_arr_flat = r_arr.flatten()\n",
    "xi = r_arr_flat.argsort()\n",
    "Er_flat = Er.flatten()\n",
    "plt.plot(r_arr_flat[xi],Er_flat[xi],color=\"0\",linewidth=1)\n",
    "plt.xlim([1.3,2.7])\n",
    "plt.ylim([0,25.5])\n",
    "plt.gca().set_aspect((2.7-1.3)/25.5)\n",
    "plt.xlabel(r'$r$')\n",
    "plt.ylabel(r'$E_r$')\n",
    "plt.savefig('rad_advection_test.png',dpi=500)"
   ]
  },
  {
   "cell_type": "code",
   "execution_count": null,
   "metadata": {},
   "outputs": [],
   "source": [
    "N = 512                   # Grid resolution\n",
    "x = np.linspace(-3,3,N)\n",
    "y = np.linspace(-3,3,N)\n",
    "xx, yy = np.meshgrid(x,y)\n",
    "\n",
    "t_0 = 0.\n",
    "t_f = 0.8\n",
    "C_0 = 1.                  # Need to write an equation to actually calculate CFL number\n",
    "c_red = 1.                # \"\" reduced sound speed, aka max wave speed in a cell\n",
    "del_x = abs(x[0] - x[1]) \n",
    "\n",
    "#Need to define initial values of fluxes and U\n",
    "E0 = Er_xyt(xx,yy,t_0)\n",
    "F0 = Fr_xyt(xx,yy,E0)\n",
    "# U0 is the initial vector of conserved quantities \n",
    "# F_U0 is the initial flux vector \n",
    "U0 = np.array([E0, F0])\n",
    "# Need to figure out if Pressure tensor uses a cross product or tensor product\n",
    "#F_U0 = np.array([F0, ])"
   ]
  },
  {
   "cell_type": "code",
   "execution_count": null,
   "metadata": {},
   "outputs": [],
   "source": []
  },
  {
   "cell_type": "code",
   "execution_count": null,
   "metadata": {},
   "outputs": [],
   "source": []
  }
 ],
 "metadata": {
  "kernelspec": {
   "display_name": "Python 3",
   "language": "python",
   "name": "python3"
  },
  "language_info": {
   "codemirror_mode": {
    "name": "ipython",
    "version": 3
   },
   "file_extension": ".py",
   "mimetype": "text/x-python",
   "name": "python",
   "nbconvert_exporter": "python",
   "pygments_lexer": "ipython3",
   "version": "3.6.3"
  }
 },
 "nbformat": 4,
 "nbformat_minor": 2
}
