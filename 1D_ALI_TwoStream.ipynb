{
 "cells": [
  {
   "cell_type": "markdown",
   "metadata": {},
   "source": [
    "# ALI numerical algorithm for two-stream transfer"
   ]
  },
  {
   "cell_type": "markdown",
   "metadata": {},
   "source": [
    "## Imports"
   ]
  },
  {
   "cell_type": "code",
   "execution_count": null,
   "metadata": {
    "collapsed": true
   },
   "outputs": [],
   "source": [
    "import numpy as np\n",
    "from numpy import linalg as LA\n",
    "import matplotlib.pyplot as plt"
   ]
  },
  {
   "cell_type": "markdown",
   "metadata": {},
   "source": [
    "## 1) Set parameters and boundary values"
   ]
  },
  {
   "cell_type": "markdown",
   "metadata": {},
   "source": [
    "### Set the grid"
   ]
  },
  {
   "cell_type": "code",
   "execution_count": null,
   "metadata": {
    "collapsed": true
   },
   "outputs": [],
   "source": [
    "# Set the number of grid points\n",
    "n = 10\n",
    "\n",
    "# Set the 1D grid\n",
    "z = np.linspace(0.,1.,num=n)\n",
    "\n",
    "# Set delta z (grid spacing value)\n",
    "del_z = z[1]\n",
    "\n",
    "# Set the tolerance for convergence\n",
    "tol_lim = 1.e-1\n",
    "diff = 100."
   ]
  },
  {
   "cell_type": "markdown",
   "metadata": {},
   "source": [
    "### Gas variables"
   ]
  },
  {
   "cell_type": "code",
   "execution_count": null,
   "metadata": {
    "collapsed": true
   },
   "outputs": [],
   "source": [
    "# Set the thermal source function (aka the Planck function)\n",
    "# In this example it is constant at each depth\n",
    "B = np.ones(n)\n",
    "\n",
    "# Photon destruction probability\n",
    "# In this example it is constant \n",
    "epsilon = np.ones(n)*0.1"
   ]
  },
  {
   "cell_type": "code",
   "execution_count": null,
   "metadata": {
    "collapsed": true
   },
   "outputs": [],
   "source": [
    "# Set the extinction coefficient\n",
    "def alpha(z):\n",
    "    \"\"\"\n",
    "    Input: Depth z \n",
    "    Output: Extinction coefficient at the depth value given\n",
    "    \"\"\"\n",
    "    \n",
    "    return(1.1**(5. - 6.*z)) \n",
    "\n",
    "# For the example problem this is 0\n",
    "# but it will not always be 0"
   ]
  },
  {
   "cell_type": "code",
   "execution_count": null,
   "metadata": {
    "collapsed": false
   },
   "outputs": [],
   "source": [
    "alpha_e = alpha(z)"
   ]
  },
  {
   "cell_type": "code",
   "execution_count": null,
   "metadata": {
    "collapsed": true
   },
   "outputs": [],
   "source": [
    "# Optical depth, (delta tau)\n",
    "# Right now it's set based on example 4.4.5\n",
    "# but there will be more options to \n",
    "# calculate this depending on what \n",
    "# information is given in the problem\n",
    "# It is also constant here because our\n",
    "# grid spacing is equal\n",
    "def tau_fn(l,alpha_fn,delta_z):\n",
    "    \"\"\"\n",
    "    Input:\n",
    "        n = number of grid points\n",
    "        alpha_fn = Function for optical depth\n",
    "    Output:\n",
    "        tau = array of the optical depth at each grid point\n",
    "    \"\"\"\n",
    "    \n",
    "    tau_arr = np.zeros((l))\n",
    "    for i in range(0,l-1):\n",
    "        j = i + delta_z/2.\n",
    "        tau_arr[i] = (-1)*np.sqrt(3.)*alpha_fn(j)*delta_z\n",
    "    return(tau_arr)"
   ]
  },
  {
   "cell_type": "code",
   "execution_count": null,
   "metadata": {
    "collapsed": false
   },
   "outputs": [],
   "source": [
    "m = n\n",
    "tau = (-1)*tau_fn(m,alpha,del_z)\n",
    "tau = tau[0:n-1]"
   ]
  },
  {
   "cell_type": "markdown",
   "metadata": {},
   "source": [
    "### Set boundary and initial values"
   ]
  },
  {
   "cell_type": "code",
   "execution_count": null,
   "metadata": {
    "collapsed": true
   },
   "outputs": [],
   "source": [
    "# Set the initial values for I\n",
    "# 0 everywhere except at the top boundary\n",
    "I_plus = np.zeros((n))\n",
    "I_minus = np.zeros((n))\n",
    "I_plus[0] = 1.\n",
    "I_minus[0] = 1.\n",
    "\n",
    "# Calculate J from the two rays\n",
    "# The mean specific intensity\n",
    "J = 0.5*(I_plus + I_minus)\n",
    "\n",
    "# Define the initial source function\n",
    "S = epsilon*B + (np.ones(n) - epsilon)*J"
   ]
  },
  {
   "cell_type": "markdown",
   "metadata": {},
   "source": [
    "## 2) Create interpolation functions and a matrix solver"
   ]
  },
  {
   "cell_type": "markdown",
   "metadata": {},
   "source": [
    "### Quadratic Bezier Interpolation for I(U)"
   ]
  },
  {
   "cell_type": "code",
   "execution_count": null,
   "metadata": {
    "collapsed": true
   },
   "outputs": [],
   "source": [
    "# Interpolation coefficients \n",
    "# Only need interpolation if working in 2D or 3D\n",
    "# Still not exactly sure how to define t\n",
    "#t = 0.5\n",
    "#m = 1. - t\n",
    "\n",
    "#def I_interp(i,j):\n",
    "#    \"\"\"\n",
    "#    Input: location on grid\n",
    "#        i = x-coordinate \n",
    "#        j = y-coordinate\n",
    "#    Output: Value of thrid-order-quadrature specific intensity value \n",
    "#        at the input location on grid\n",
    "#    \"\"\"\n",
    "#    return(I[i-1,j]*u**2 + I[i+1,j]*2.*u*t + I[i+2,j]*t**2)"
   ]
  },
  {
   "cell_type": "markdown",
   "metadata": {},
   "source": [
    "### Third order quadratic interpolation for the source contribution"
   ]
  },
  {
   "cell_type": "code",
   "execution_count": null,
   "metadata": {
    "collapsed": false
   },
   "outputs": [],
   "source": [
    "# Interpolation coefficients\n",
    "e0 = np.ones((n-1))\n",
    "e1 = tau - e0\n",
    "e2 = tau**2 - (2.*e1)\n",
    "\n",
    "u = e0 + (e2 - 3.*tau*e1)/(2.*tau**2)\n",
    "p = ((2.*tau*e1)-e2)/(tau**2)\n",
    "d = (e2 - tau*e1)/(2.*tau**2)\n",
    "\n",
    "# Define the 1D source term interpolation function\n",
    "def S_interp(i,S,plus=True):\n",
    "    \"\"\"\n",
    "    Input: \n",
    "        i = location on grid, make sure to not exceed i=n-2\n",
    "        S = Source value at each gridpoint\n",
    "        plus = True if we are dealing with the ray that\n",
    "               is being integrated from the bottom to top\n",
    "               False if integrated from the top to bottom\n",
    "    Output: Value of thrid-order-quadrature source value\n",
    "            for the two-stream approximation\n",
    "        at the input location on grid\n",
    "    \"\"\"\n",
    "    \n",
    "    if plus==True:\n",
    "        # This calculates u_(+,i+1/2), p_(+,i+1/2), d_(+,i+1/2)\n",
    "        return(u[i]*S[i-1] + p[i]*S[i] + d[i]*S[i+1])\n",
    "    else:\n",
    "        # This calculates u_(-,i+1/2), p_(-,i+1/2), d_(-,i+1/2)\n",
    "        return(u[i+1]*S[i+1] + p[i+1]*S[i] + d[i+1]*S[i-1])"
   ]
  },
  {
   "cell_type": "markdown",
   "metadata": {},
   "source": [
    "### Partial Lambda Operator"
   ]
  },
  {
   "cell_type": "code",
   "execution_count": null,
   "metadata": {
    "collapsed": true
   },
   "outputs": [],
   "source": [
    "# These are the lower diagonal,\n",
    "# diagonal, and upper diagonal\n",
    "# pieces of the simplified lambda\n",
    "# operator. These will vary across \n",
    "# the grid if tau varies with z\n",
    "\n",
    "# Lower Diagonal \n",
    "lmbda_l = 0.5*(u+d)\n",
    "\n",
    "# Diagonal \n",
    "lmbda_d = 0.5*(p+p)\n",
    "\n",
    "# Upper Diagonal\n",
    "lmbda_u = 0.5*(d+u)\n",
    "\n",
    "# Construct the operator\n",
    "lmbda = np.zeros((n,n))\n",
    "for i in range(0,n-1):\n",
    "    lmbda[i,i] = lmbda_d[i]\n",
    "    if i==0:\n",
    "        lmbda[i,i+1] = lmbda_u[i]\n",
    "    elif i==(n-1):\n",
    "        lmbda[i,i-1] = lmbda_l[i]\n",
    "    else:\n",
    "        lmbda[i,i+1] = lmbda_u[i]\n",
    "        lmbda[i,i-1] = lmbda_l[i]"
   ]
  },
  {
   "cell_type": "markdown",
   "metadata": {},
   "source": [
    "## M matrix"
   ]
  },
  {
   "cell_type": "code",
   "execution_count": null,
   "metadata": {
    "collapsed": false
   },
   "outputs": [],
   "source": [
    "# M* = [Identity - (1-epsilon)*Lambda*]\n",
    "# Where Lambda* is the partial lambda operator \n",
    "# The matrix equation that will be solved is:\n",
    "# M*S = epsilon*B\n",
    "one = (n,n)\n",
    "M = np.ones(one) - lmbda*(np.ones((n))-epsilon)"
   ]
  },
  {
   "cell_type": "markdown",
   "metadata": {},
   "source": [
    "### Forward elimination and backward substitution subroutine"
   ]
  },
  {
   "cell_type": "code",
   "execution_count": null,
   "metadata": {
    "collapsed": true
   },
   "outputs": [],
   "source": [
    "# Define the functions for the coefficients\n",
    "# used in the Thomas Algorithm which is used \n",
    "# and explained below\n",
    "def gamma_beta_fn(mat, y, n):\n",
    "    \"\"\"\n",
    "    Input:\n",
    "        M = the tridiagonal matrix (nxn)\n",
    "        y = the solution array in the matrix equation: Mx = y (nx1)\n",
    "        n = the number of rows in matrix m\n",
    "    Output:\n",
    "        g = the array of gamma constants (nx1)\n",
    "        b = the array of beta constants (nx1)\n",
    "    \"\"\"\n",
    "    \n",
    "    # Define column arrays for necessary row-specific constants\n",
    "    # This automatically sets gamma[0] = beta[0] = 0 which is \n",
    "    # necessary for the problem\n",
    "    g = np.zeros((n))\n",
    "    b = np.zeros((n))\n",
    "    \n",
    "    for i in range(0,n-2):\n",
    "        if i==0:\n",
    "            g[i+1] = ((-mat[i,i+1])/mat[i,i])\n",
    "            b[i+1] = y[i]/mat[i,i]\n",
    "        else:\n",
    "            g[i+1] = ((-mat[i,i+1])/(g[i]*mat[i,i-1] + mat[i,i])) \n",
    "            b[i+1] = (y[i] - b[i]*mat[i,i-1])/mat[i,i]\n",
    "    \n",
    "    return(g,b)"
   ]
  },
  {
   "cell_type": "code",
   "execution_count": null,
   "metadata": {
    "collapsed": true
   },
   "outputs": [],
   "source": [
    "# Thomas Algorithm\n",
    "# Forward elimination for a tridiagonal matrix\n",
    "# Based on the algorithm found in Dullemond Ch4 notes\n",
    "# Backward Substition is then applied\n",
    "def tri_solver(M,S,epsilon,B,del_z):\n",
    "    \"\"\"\n",
    "    Input: \n",
    "        J = specific intensity at every grid point\n",
    "        alpha_t = total opacity\n",
    "        alpha_a = absorption opacity\n",
    "        B = thermal source function\n",
    "    Output:\n",
    "        A new matrix or vector of J values \n",
    "    \"\"\"\n",
    "    \n",
    "    #-----------------------------------------------------------\n",
    "    # Perform forward elimination and backward substitution on M\n",
    "    # Thomas Algorithm: a simplified form of Gaussian Elimination\n",
    "    # specifically for tridiagonal matrices \n",
    "    \n",
    "    # Calculate Y = alpha_a(J - B) from MJ = alpha_a(J - B) = Y\n",
    "    Y = epsilon*B\n",
    "    # Calculate the necessary gamma and beta constants\n",
    "    # This is essentially storing information obtained from \n",
    "    # forward substitution \n",
    "    gamma, beta = gamma_beta_fn(M, Y, n)\n",
    "    # We use these constants to complete the calculation for \n",
    "    # what is essentially a back substitution to finish the\n",
    "    # calculation of MX = Y\n",
    "    X = np.zeros((n+1))\n",
    "    X[0:n] = S\n",
    "    for k in range(1,n):\n",
    "        # Actually need to go from n, n-1, n-2,...,1\n",
    "        # So create a new place holder that goes backwards\n",
    "        c = (n) - k\n",
    "        X[c-1] = gamma[c]*X[c] + beta[c]\n",
    "    \n",
    "    # Return the new solution to J\n",
    "    return(X[0:n])"
   ]
  },
  {
   "cell_type": "markdown",
   "metadata": {},
   "source": [
    "## 3) Solve for converged S"
   ]
  },
  {
   "cell_type": "code",
   "execution_count": null,
   "metadata": {
    "collapsed": false
   },
   "outputs": [],
   "source": [
    "print(\"S = \", S)\n",
    "print(\"I_plus = \", I_plus)\n",
    "print(\"I_minus = \", I_minus)\n",
    "print(\"J = \", J)\n",
    "print(\"-----------------------------------\")\n",
    "# Count the iterations\n",
    "j = 0\n",
    "while diff > tol_lim:\n",
    "    j = j + 1\n",
    "    # Solve for S\n",
    "    # ----------------------------------------------------------------------\n",
    "    # Solve for the source function via a formal solution\n",
    "    #S = tri_solver(M,S,epsilon,B,del_z)\n",
    "    S = epsilon*B + (np.ones(n) - epsilon)*J\n",
    "\n",
    "    # Solve for I\n",
    "    # ----------------------------------------------------------------------\n",
    "    # For 2D and 3D use the function defined for \n",
    "    # quadratic Bezier interpolation to find the new value for I(U)\n",
    "    # For 1D just use the i-1 grid point for the exponential term\n",
    "    # Use a different third-order-quadrature method for S contributions\n",
    "    for i in range(1,n-2):\n",
    "        I_plus[i] = np.exp(-tau[i-1])*I_plus[i-1] + S_interp(i,S,plus=True)\n",
    "        I_minus[i] = np.exp(-tau[i])*I_minus[i] + S_interp(i,S,plus=False)\n",
    "\n",
    "    # Solve for J\n",
    "    # ----------------------------------------------------------------------\n",
    "    # The 1D diffusion equation is a 2nd order PDE where J is the solution\n",
    "    # The numerical representation used for this PDE is Central Space\n",
    "    # Forward substitution + backward substitution are used to solve the PDE\n",
    "    J_new = 0.5*(I_plus + I_minus)\n",
    "\n",
    "    # Check the difference between the previous J and J_new\n",
    "    diff = abs(LA.norm(J_new) - LA.norm(J)) \n",
    "    J = J_new\n",
    "\n",
    "print(j)\n",
    "print(J_new)"
   ]
  },
  {
   "cell_type": "code",
   "execution_count": null,
   "metadata": {
    "collapsed": false
   },
   "outputs": [],
   "source": [
    "y = S/B\n",
    "plt.plot(z,y)\n",
    "plt.title(\"S/B vs z, epsilon=0.1\")\n",
    "plt.xlabel(\"z\")\n",
    "plt.ylabel(\"S/B\")\n",
    "plt.show()"
   ]
  }
 ],
 "metadata": {
  "kernelspec": {
   "display_name": "Python 2",
   "language": "python",
   "name": "python2"
  },
  "language_info": {
   "codemirror_mode": {
    "name": "ipython",
    "version": 2
   },
   "file_extension": ".py",
   "mimetype": "text/x-python",
   "name": "python",
   "nbconvert_exporter": "python",
   "pygments_lexer": "ipython2",
   "version": "2.7.12"
  }
 },
 "nbformat": 4,
 "nbformat_minor": 2
}
