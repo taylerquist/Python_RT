{
 "cells": [
  {
   "cell_type": "markdown",
   "metadata": {},
   "source": [
    "# ALI numerical algorithm for two-stream transfer"
   ]
  },
  {
   "cell_type": "markdown",
   "metadata": {},
   "source": [
    "## Imports"
   ]
  },
  {
   "cell_type": "code",
   "execution_count": null,
   "metadata": {},
   "outputs": [],
   "source": [
    "import numpy as np"
   ]
  },
  {
   "cell_type": "markdown",
   "metadata": {},
   "source": [
    "## 1) Set parameters and boundary values"
   ]
  },
  {
   "cell_type": "markdown",
   "metadata": {},
   "source": [
    "### Set the grid"
   ]
  },
  {
   "cell_type": "code",
   "execution_count": null,
   "metadata": {},
   "outputs": [],
   "source": [
    "# Set the number of grid points\n",
    "n = 5\n",
    "\n",
    "# Set the 1D grid\n",
    "z = np.linspace(0.,1.,num=n)\n",
    "\n",
    "# Set delta z (grid spacing value)\n",
    "del_z = z[1]"
   ]
  },
  {
   "cell_type": "markdown",
   "metadata": {},
   "source": [
    "### Gas variables"
   ]
  },
  {
   "cell_type": "code",
   "execution_count": null,
   "metadata": {},
   "outputs": [],
   "source": [
    "# Set the thermal source function (aka the Planck function)\n",
    "# In this example it is constant at each depth\n",
    "B = np.ones(n)\n",
    "\n",
    "# Photon destruction probability\n",
    "# In this example it is constant \n",
    "epsilon = np.ones(n)*0.1"
   ]
  },
  {
   "cell_type": "code",
   "execution_count": null,
   "metadata": {},
   "outputs": [],
   "source": [
    "# Set the extinction coefficient\n",
    "def alpha(z):\n",
    "    \"\"\"\n",
    "    Input: Depth z \n",
    "    Output: Extinction coefficient at the depth value given\n",
    "    \"\"\"\n",
    "    \n",
    "    return(10.**(5. - 6.*z)) \n",
    "\n",
    "# For the example problem this is 0\n",
    "# but it will not always be 0"
   ]
  },
  {
   "cell_type": "code",
   "execution_count": null,
   "metadata": {},
   "outputs": [],
   "source": [
    "alpha_e = alpha(z)"
   ]
  },
  {
   "cell_type": "code",
   "execution_count": null,
   "metadata": {},
   "outputs": [],
   "source": [
    "# Optical depth, (delta tau)\n",
    "# Right now it's set based on example 4.4.5\n",
    "# but there will be more options to \n",
    "# calculate this depending on what \n",
    "# information is given in the problem\n",
    "# It is also constant here because our\n",
    "# grid spacing is equal\n",
    "def tau_fn(n,delta_z):\n",
    "    \"\"\"\n",
    "    Input:\n",
    "        n = number of grid points\n",
    "        alpha_e = array of extinction coefficients for the grid\n",
    "    Output:\n",
    "        tau = array of the optical depth at each grid point\n",
    "    \"\"\"\n",
    "    \n",
    "    tau = np.zeros((n-1))\n",
    "    for i in range(0,n-1):\n",
    "        j = i + delta_z/2.\n",
    "        tau[i] = -np.sqrt(3.)*alpha_e(j)*delta_z\n",
    "    return(tau)"
   ]
  },
  {
   "cell_type": "code",
   "execution_count": null,
   "metadata": {},
   "outputs": [],
   "source": [
    "tau = tau_fn(n,alpha_e)"
   ]
  },
  {
   "cell_type": "markdown",
   "metadata": {},
   "source": [
    "### Set boundary and initial values"
   ]
  },
  {
   "cell_type": "code",
   "execution_count": null,
   "metadata": {},
   "outputs": [],
   "source": [
    "# Set the initial values for I\n",
    "# 0 everywhere except at the top boundary\n",
    "I_plus = np.zeros((n))\n",
    "I_plus[0] = 1.\n",
    "I_minus = I_plus\n",
    "\n",
    "# Calculate J from the two rays\n",
    "# The mean specific intensity\n",
    "J = 0.5*(I_plus + I_minus)"
   ]
  },
  {
   "cell_type": "markdown",
   "metadata": {},
   "source": [
    "## 2) Create interpolation functions and a matrix solver"
   ]
  },
  {
   "cell_type": "markdown",
   "metadata": {},
   "source": [
    "### Quadratic Bezier Interpolation for I(U)"
   ]
  },
  {
   "cell_type": "code",
   "execution_count": null,
   "metadata": {},
   "outputs": [],
   "source": [
    "# Interpolation coefficients \n",
    "# Only need interpolation if working in 2D or 3D\n",
    "# Still not exactly sure how to define t\n",
    "#t = 0.5\n",
    "#m = 1. - t\n",
    "\n",
    "#def I_interp(i,j):\n",
    "#    \"\"\"\n",
    "#    Input: location on grid\n",
    "#        i = x-coordinate \n",
    "#        j = y-coordinate\n",
    "#    Output: Value of thrid-order-quadrature specific intensity value \n",
    "#        at the input location on grid\n",
    "#    \"\"\"\n",
    "#    return(I[i-1,j]*u**2 + I[i+1,j]*2.*u*t + I[i+2,j]*t**2)"
   ]
  },
  {
   "cell_type": "markdown",
   "metadata": {},
   "source": [
    "### Third order quadratic interpolation for the source contribution"
   ]
  },
  {
   "cell_type": "code",
   "execution_count": null,
   "metadata": {},
   "outputs": [],
   "source": [
    "# Interpolation coefficients\n",
    "e0 = np.ones((n-1))\n",
    "e1 = tau - e0\n",
    "e2 = tau**2 - (2.*e1)\n",
    "u = e0 + (e2 - 3.*tau*e1)/(2.*tau**2)\n",
    "p = ((2.*tau*e1)-e2)/(tau**2)\n",
    "d = (e2 - tau*e1)/(2.*tau**2)\n",
    "\n",
    "# Define the 1D source term interpolation function\n",
    "def S_interp(i,S,plus=True):\n",
    "    \"\"\"\n",
    "    Input: \n",
    "        i = location on grid\n",
    "        S = Source value at each gridpoint\n",
    "        plus = True if we are dealing with the ray that\n",
    "               is being integrated from the bottom to top\n",
    "               False if integrated from the top to bottom\n",
    "    Output: Value of thrid-order-quadrature source value\n",
    "            for the two-stream approximation\n",
    "        at the input location on grid\n",
    "    \"\"\"\n",
    "    \n",
    "    if plus==True:\n",
    "        return(u[i]*S[i-1] + p[i]*S[i] + d[i]*S[i+1])\n",
    "    else:\n",
    "        return(u[i]*S[i+1] + p[i]*S[i] + d[i]*S[i-1])"
   ]
  },
  {
   "cell_type": "code",
   "execution_count": null,
   "metadata": {},
   "outputs": [],
   "source": [
    "# Interpolate to find I based on the\n",
    "# initial S and above coefficients\n",
    "for i in range(1,n-2):\n",
    "    # Integrate from the bottom to top (one ray)\n",
    "    I_plus[i] = np.exp(-tau[i-1])*I_plus[i-1] + S_interp(i,S,plus=True)\n",
    "    # Integrate from the top to bottom (second ray)\n",
    "    I_minus[i] = np.exp(-tau[i])*I_minus[i+1] + S_interp(i,S,plus=False)"
   ]
  },
  {
   "cell_type": "markdown",
   "metadata": {},
   "source": [
    "### Partial Lambda Operator"
   ]
  },
  {
   "cell_type": "code",
   "execution_count": null,
   "metadata": {},
   "outputs": [],
   "source": [
    "# These are the lower diagonal,\n",
    "# diagonal, and upper diagonal\n",
    "# pieces of the simplified lambda\n",
    "# operator. These will vary across \n",
    "# the grid if tau varies with z\n",
    "\n",
    "# Lower Diagonal \n",
    "lmbda_l = 0.5*(u+d)\n",
    "\n",
    "# Diagonal \n",
    "lmbda_d = 0.5*(p+p)\n",
    "\n",
    "# Upper Diagonal\n",
    "lmbda_u = 0.5*(d+u)\n",
    "\n",
    "# Construct the operator\n",
    "lmbda = np.zeros(n,n)\n",
    "for i in range(0,n-1):\n",
    "    lmbda[i,i] = lmbda_d[i]\n",
    "    if i==0:\n",
    "        lmbda[i,i+1] = lmbda_u[i]\n",
    "    elif i==(n-1):\n",
    "        lmbda[i,i-1] = lmbda_l[i]\n",
    "    else:\n",
    "        lmbda[i,i+1] = lmbda_u[i]\n",
    "        lmbda[i,i-1] = lmbda_l[i]"
   ]
  },
  {
   "cell_type": "markdown",
   "metadata": {},
   "source": [
    "## M matrix"
   ]
  },
  {
   "cell_type": "code",
   "execution_count": null,
   "metadata": {},
   "outputs": [],
   "source": [
    "# M* = [Identity - (1-epsilon)*Lambda*]\n",
    "# Where Lambda* is the partial lambda operator \n",
    "# The matrix equation that will be solved is:\n",
    "# M*S = epsilon*B\n",
    "M = np.ones(n,n) - lmbda*(np.ones(n)-epsilon)"
   ]
  },
  {
   "cell_type": "markdown",
   "metadata": {},
   "source": [
    "### Forward elimination and backward substitution subroutine"
   ]
  },
  {
   "cell_type": "code",
   "execution_count": null,
   "metadata": {},
   "outputs": [],
   "source": [
    "# Define the functions for the coefficients\n",
    "# used in the Thomas Algorithm which is used \n",
    "# and explained below\n",
    "def gamma_beta_fn(mat, y, n):\n",
    "    \"\"\"\n",
    "    Input:\n",
    "        M = the tridiagonal matrix to be sovled (nxn)\n",
    "        y = the solution array in the matrix equation: Mx = y (nx1)\n",
    "        n = the number of rows in matrix m\n",
    "    Output:\n",
    "        g = the array of gamma constants (nx1)\n",
    "        b = the array of beta constants (nx1)\n",
    "    \"\"\"\n",
    "    \n",
    "    # Define column arrays for necessary row-specific constants\n",
    "    # This automatically sets gamma[0] = beta[0] = 0 which is \n",
    "    # necessary for the problem\n",
    "    g = np.zeros((n))\n",
    "    b = np.zeros((n))\n",
    "    \n",
    "    for i in range(0,n-2):\n",
    "        if i==0:\n",
    "            g[i+1] = ((-mat[i,i+1])/mat[i,i])\n",
    "            b[i+1] = y[i]/mat[i,i]\n",
    "        else:\n",
    "            g[i+1] = ((-mat[i,i+1])/(g[i]*mat[i,i-1] + mat[i,i])) \n",
    "            b[i+1] = (y[i] - b[i]*mat[i,i-1])/mat[i,i]\n",
    "    \n",
    "    return(g,b)"
   ]
  },
  {
   "cell_type": "code",
   "execution_count": null,
   "metadata": {},
   "outputs": [],
   "source": [
    "# Thomas Algorithm\n",
    "# Forward elimination for a tridiagonal matrix\n",
    "# Based on the algorithm found in Dullemond Ch4 notes\n",
    "# Backward Substition is then applied\n",
    "def tri_solver(M,S,epsilon,B,del_z):\n",
    "    \"\"\"\n",
    "    Input: \n",
    "        J = specific intensity at every grid point\n",
    "        alpha_t = total opacity\n",
    "        alpha_a = absorption opacity\n",
    "        B = thermal source function\n",
    "    Output:\n",
    "        A new matrix or vector of J values \n",
    "    \"\"\"\n",
    "    \n",
    "    #-----------------------------------------------------------\n",
    "    # Perform forward elimination and backward substitution on M\n",
    "    # Thomas Algorithm: a simplified form of Gaussian Elimination\n",
    "    # specifically for tridiagonal matrices \n",
    "    \n",
    "    # Calculate Y = alpha_a(J - B) from MJ = alpha_a(J - B) = Y\n",
    "    Y = epsilon*B\n",
    "    # Calculate the necessary gamma and beta constants\n",
    "    # This is essentially storing information obtained from \n",
    "    # forward substitution \n",
    "    gamma, beta = gamma_beta_fn(M, Y, n)\n",
    "    # We use these constants to complete the calculation for \n",
    "    # what is essentially a back substitution to finish the\n",
    "    # calculation of MX = Y\n",
    "    X = np.zeros((n+1))\n",
    "    X[0:n] = S\n",
    "    for k in range(1,n):\n",
    "        # Actually need to go from n, n-1, n-2,...,1\n",
    "        # So create a new place holder that goes backwards\n",
    "        c = (n) - k\n",
    "        X[c-1] = gamma[c]*X[c] + beta[c]\n",
    "    \n",
    "    # Return the new solution to J\n",
    "    return(X[0:n])"
   ]
  },
  {
   "cell_type": "markdown",
   "metadata": {},
   "source": [
    "## 3) Solve for converged S"
   ]
  },
  {
   "cell_type": "code",
   "execution_count": null,
   "metadata": {},
   "outputs": [],
   "source": [
    "# Solve for S -- I don't think this will be here...\n",
    "# ----------------------------------------------------------------------\n",
    "# Solve for the source function via a formal solution\n",
    "#S = epsilon*B + (np.ones(n) - epsilon)*J\n",
    "\n",
    "# Solve for I\n",
    "# ----------------------------------------------------------------------\n",
    "# For 2D and 3D use the function defined for \n",
    "# quadratic Bezier interpolation to find the new value for I(U)\n",
    "# For 1D just use the i-1 grid point for the exponential term\n",
    "# Use a different third-order-quadrature method for S contributions\n",
    "#for i in range(0,n-1):\n",
    "#    I[i] = np.exp(-tau)*I[i-1] + S_interp(i)\n",
    "\n",
    "# Solve for J\n",
    "# ----------------------------------------------------------------------\n",
    "# The 1D diffusion equation is a 2nd order PDE where J is the solution\n",
    "# The numerical representation used for this PDE is Central Space\n",
    "# Forward substitution + backward substitution are used to solve the PDE"
   ]
  }
 ],
 "metadata": {
  "kernelspec": {
   "display_name": "Python 3",
   "language": "python",
   "name": "python3"
  },
  "language_info": {
   "codemirror_mode": {
    "name": "ipython",
    "version": 3
   },
   "file_extension": ".py",
   "mimetype": "text/x-python",
   "name": "python",
   "nbconvert_exporter": "python",
   "pygments_lexer": "ipython3",
   "version": "3.7.0"
  }
 },
 "nbformat": 4,
 "nbformat_minor": 2
}
